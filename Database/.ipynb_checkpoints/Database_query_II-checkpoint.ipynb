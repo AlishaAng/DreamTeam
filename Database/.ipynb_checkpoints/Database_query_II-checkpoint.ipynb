{
 "cells": [
  {
   "cell_type": "markdown",
   "metadata": {},
   "source": [
    "# Project IronFox MK I"
   ]
  },
  {
   "cell_type": "markdown",
   "metadata": {},
   "source": [
    "This project is a sequel to Project Fire Fox. It documents the creation of the function that will be used later in querying the database for the purpose of rendering the information on the website."
   ]
  },
  {
   "cell_type": "code",
   "execution_count": 1,
   "metadata": {},
   "outputs": [],
   "source": [
    "#calling library\n",
    "from kinase_declarative import *\n",
    "from sqlalchemy import create_engine, or_\n",
    "from sqlalchemy.orm import sessionmaker\n",
    "from pprint import pprint"
   ]
  },
  {
   "cell_type": "code",
   "execution_count": 2,
   "metadata": {},
   "outputs": [],
   "source": [
    "#create engine and bine the engine\n",
    "engine = create_engine(\"sqlite:///kinase_database.db\")\n",
    "Base.metadata.bind = engine"
   ]
  },
  {
   "cell_type": "code",
   "execution_count": 3,
   "metadata": {},
   "outputs": [],
   "source": [
    "#create a session object\n",
    "session = sessionmaker(bind=engine)\n",
    "s = session()"
   ]
  },
  {
   "cell_type": "markdown",
   "metadata": {},
   "source": [
    "# Intermediate kinase results page"
   ]
  },
  {
   "attachments": {
    "kinase_intermediate_results_page.png": {
     "image/png": "[encoded data removed]"
    }
   },
   "cell_type": "markdown",
   "metadata": {},
   "source": [
    "This section documents the creation of functions for the following page.\n",
    "\n",
    "![kinase_intermediate_results_page.png](attachment:kinase_intermediate_results_page.png)"
   ]
  },
  {
   "cell_type": "code",
   "execution_count": 8,
   "metadata": {},
   "outputs": [
    {
     "name": "stdout",
     "output_type": "stream",
     "text": [
      "{'protein_name': 'RAC-gamma serine/threonine-protein kinase', 'uniprot_number': 'Q9Y243', 'uniprot_entry': 'AKT3_HUMAN', 'gene_name': 'AKT3', 'kinase_family': 'AGC Ser/Thr protein kinase family'}\n"
     ]
    }
   ],
   "source": [
    "kinase_input = \"AKT3_HUMAN\"\n",
    "kinase_query = s.query(KinaseGeneMeta).join(KinaseGeneName).filter(or_(KinaseGeneName.gene_alias==kinase_input, KinaseGeneMeta.uniprot_entry==kinase_input,\\\n",
    "                                   KinaseGeneMeta.uniprot_number==kinase_input, KinaseGeneMeta.protein_name==kinase_input)).all()\n",
    "for row in kinase_query:\n",
    "    print(row.to_dict())"
   ]
  },
  {
   "cell_type": "code",
   "execution_count": 34,
   "metadata": {},
   "outputs": [
    {
     "name": "stdout",
     "output_type": "stream",
     "text": [
      "[{'Gene Name': 'AKT1',\n",
      "  'Protein Name': 'RAC-alpha serine/threonine-protein kinase'},\n",
      " {'Gene Name': 'AKT2',\n",
      "  'Protein Name': 'RAC-beta serine/threonine-protein kinase'},\n",
      " {'Gene Name': 'AKT3',\n",
      "  'Protein Name': 'RAC-gamma serine/threonine-protein kinase'}]\n",
      "[{'Gene Name': 'AKT3', 'Protein Name': 'RAC-gamma serine/threonine-protein kinase'}]\n"
     ]
    }
   ],
   "source": [
    "def get_gene_protein_name(kinase_input):\n",
    "    \"\"\"\n",
    "    Returns a list of dictionary.\n",
    "    In the dictionary, there are gene name and protein name.\n",
    "    Returns empty list when no match is found.\n",
    "    >> kin = \"AKT\"\n",
    "    >> get_gene_protein_name(kin)\n",
    "    [{'Gene Name': 'AKT', 'Protein Name': 'RAC-alpha serine/threonine-protein kinase'}, \n",
    "    {'Gene Name': 'AKT', 'Protein Name': 'RAC-beta serine/threonine-protein kinase'}, \n",
    "    {'Gene Name': 'AKT', 'Protein Name': 'RAC-gamma serine/threonine-protein kinase'}]\n",
    "    \"\"\"\n",
    "    like_kin = \"%{}%\".format(kinase_input)\n",
    "    tmp = []\n",
    "    kinase_query = s.query(KinaseGeneMeta).join(KinaseGeneName).filter(or_(KinaseGeneName.gene_alias.like(like_kin), KinaseGeneMeta.uniprot_entry.like(like_kin),\\\n",
    "                                   KinaseGeneMeta.uniprot_number.like(like_kin), KinaseGeneMeta.protein_name.like(like_kin))).all()\n",
    "    for row in kinase_query:\n",
    "        results = {}\n",
    "        results[\"Gene_Name\"] = row.to_dict()[\"gene_name\"]\n",
    "        results[\"Protein_Name\"] = row.to_dict()[\"protein_name\"]\n",
    "        tmp.append(results)\n",
    "    return tmp\n",
    "kin = \"AKT\"\n",
    "uni_num = \"Q9Y243\"\n",
    "pprint(get_gene_protein_name(kin))\n",
    "print(get_gene_protein_name(uni_num))"
   ]
  },
  {
   "cell_type": "markdown",
   "metadata": {},
   "source": [
    "# Individual kinase page"
   ]
  },
  {
   "attachments": {
    "individual_kinase_page.png": {
     "image/png": "[encoded data removed]"
    }
   },
   "cell_type": "markdown",
   "metadata": {},
   "source": [
    "The following section documents the creation of function for individual kinase. There will be multiple functions for this section.\n",
    "\n",
    "![individual_kinase_page.png](attachment:individual_kinase_page.png)"
   ]
  },
  {
   "cell_type": "markdown",
   "metadata": {},
   "source": [
    "## Function to return gene name, family, protein name, uniprot entry, uniprot number."
   ]
  },
  {
   "cell_type": "code",
   "execution_count": 38,
   "metadata": {},
   "outputs": [
    {
     "data": {
      "text/plain": [
       "{'protein_name': 'RAC-gamma serine/threonine-protein kinase',\n",
       " 'uniprot_number': 'Q9Y243',\n",
       " 'uniprot_entry': 'AKT3_HUMAN',\n",
       " 'gene_name': 'AKT3',\n",
       " 'kinase_family': 'AGC Ser/Thr protein kinase family'}"
      ]
     },
     "execution_count": 38,
     "metadata": {},
     "output_type": "execute_result"
    }
   ],
   "source": [
    "kinase = \"AKT3\"\n",
    "kinase = s.query(KinaseGeneMeta).filter(KinaseGeneMeta.gene_name==kinase).one()\n",
    "kinase.to_dict()"
   ]
  },
  {
   "cell_type": "code",
   "execution_count": 43,
   "metadata": {},
   "outputs": [
    {
     "name": "stdout",
     "output_type": "stream",
     "text": [
      "{'gene_name': 'MAPK1',\n",
      " 'kinase_family': 'CMGC Ser/Thr protein kinase family',\n",
      " 'protein_name': 'Mitogen-activated protein kinase 1',\n",
      " 'uniprot_entry': 'MK01_HUMAN',\n",
      " 'uniprot_number': 'P28482'}\n"
     ]
    }
   ],
   "source": [
    "def get_gene_metadata_from_gene(kinase_str):\n",
    "    \"\"\"\n",
    "    Takes in a gene name as a string then output a dictionary.\n",
    "    >> get_gene_metadata_from_gene(\"MAPK1\")\n",
    "    {'gene_name': 'MAPK1', \n",
    "    'kinase_family': 'CMGC Ser/Thr protein kinase family',\n",
    "    'protein_name': 'Mitogen-activated protein kinase 1',\n",
    "    'uniprot_entry': 'MK01_HUMAN',\n",
    "    'uniprot_number': 'P28482'}\n",
    "    \"\"\"\n",
    "    kinase_obj = s.query(KinaseGeneMeta).filter(KinaseGeneMeta.gene_name==kinase_str).one()\n",
    "    return kinase_obj.to_dict()\n",
    "pprint(get_gene_metadata(\"MAPK1\"))"
   ]
  },
  {
   "cell_type": "markdown",
   "metadata": {},
   "source": [
    "## Function to return subcellular location of kinase"
   ]
  },
  {
   "cell_type": "code",
   "execution_count": 45,
   "metadata": {},
   "outputs": [
    {
     "name": "stdout",
     "output_type": "stream",
     "text": [
      "Cytosol\n",
      "Cytoplasm\n"
     ]
    }
   ],
   "source": [
    "kinase = \"ALPK1\"\n",
    "kinase_query = s.query(KinaseSubcellularLocation).join(KinaseGeneName).filter(KinaseGeneName.gene_alias==kinase).all()\n",
    "for row in kinase_query:\n",
    "    print(row.subcellular_location)"
   ]
  },
  {
   "cell_type": "code",
   "execution_count": 8,
   "metadata": {},
   "outputs": [
    {
     "name": "stdout",
     "output_type": "stream",
     "text": [
      "{'Gene_Name': 'MAPK1', 'Subcellular_Locations': ['Cytoplasm', 'Cytoskeleton', 'Membrane', 'Nucleus', 'Caveola', 'Microtubule Organizing Center', 'Spindle', 'Plasma Membrane', 'Mitotic Spindle', 'Focal Adhesion', 'Cytosol', 'Golgi Apparatus', 'Late Endosome', 'Early Endosome', 'Mitochondrion', 'Azurophil Granule Lumen', 'Nucleoplasm', 'Extracellular Region', 'Cell', 'Pseudopodium', 'Perikaryon', 'Protein-Containing Complex', 'Dendrite Cytoplasm', 'Axon', 'Postsynaptic Density']}\n"
     ]
    }
   ],
   "source": [
    "def get_subcellular_location_from_gene(kinase_gene):\n",
    "    \"\"\"\n",
    "    Returns a list of dictionary.\n",
    "    The dictionary has the gene as the key and the subcellular location in the list.\n",
    "    >> get_subcellular_location_from_gene('MAPK1')\n",
    "    {'Gene_Name': 'MAPK1', 'Subcellular_Locations': ['Cytoplasm', 'Cytoskeleton', 'Membrane', 'Nucleus', 'Caveola', \n",
    "    'Microtubule Organizing Center', 'Spindle', 'Plasma Membrane', 'Mitotic Spindle', 'Focal Adhesion', 'Cytosol', \n",
    "    'Golgi Apparatus', 'Late Endosome', 'Early Endosome', 'Mitochondrion', 'Azurophil Granule Lumen', 'Nucleoplasm', \n",
    "    'Extracellular Region', 'Cell', 'Pseudopodium', 'Perikaryon', 'Protein-Containing Complex', 'Dendrite Cytoplasm', \n",
    "    'Axon', 'Postsynaptic Density']}\n",
    "    \"\"\"\n",
    "    tmp = []\n",
    "    results = {}\n",
    "    results[\"Gene_Name\"] = kinase_gene\n",
    "    kinase_query = s.query(KinaseSubcellularLocation).join(KinaseGeneName).filter(KinaseGeneName.gene_alias==kinase_gene).all()\n",
    "    for row in kinase_query:\n",
    "        tmp.append(row.subcellular_location)\n",
    "    results[\"Subcellular_Locations\"] = tmp\n",
    "    return results\n",
    "print(get_subcellular_location_from_gene('MAPK1'))"
   ]
  },
  {
   "cell_type": "markdown",
   "metadata": {},
   "source": [
    "## Function to return the inhibitors from a kinase"
   ]
  },
  {
   "cell_type": "code",
   "execution_count": 49,
   "metadata": {},
   "outputs": [
    {
     "data": {
      "text/plain": [
       "['GSK650394A',\n",
       " 'SGK-Sanofi-14i',\n",
       " 'SGK1-Sanofi-14g',\n",
       " 'SGK1-Sanofi-14h',\n",
       " 'SGK1-Sanofi-14n']"
      ]
     },
     "execution_count": 49,
     "metadata": {},
     "output_type": "execute_result"
    }
   ],
   "source": [
    "def get_inhibitors_from_gene(kinase_gene):\n",
    "    \"\"\"\n",
    "    Take a string and return a list of dictionaries.\n",
    "    Returns empty list if there are no inhibitors.\n",
    "    >> get_inhibitors_from_gene(\"SGK1\")\n",
    "    ['GSK650394A', 'SGK-Sanofi-14i','SGK1-Sanofi-14g', 'SGK1-Sanofi-14h', 'SGK1-Sanofi-14n']\n",
    "    \"\"\"\n",
    "    results = []\n",
    "    kinase_query = s.query(KinaseGeneName).filter(KinaseGeneName.gene_alias==kinase).one()\n",
    "    for inhibitor in kinase_query.inhibitors:\n",
    "        results.append(inhibitor.inhibitor)\n",
    "    return results\n",
    "kinase = \"SGK1\"\n",
    "get_inhibitors_from_gene(kinase)"
   ]
  },
  {
   "cell_type": "markdown",
   "metadata": {},
   "source": [
    "## Function to return substrates and phosphosites from a kinase"
   ]
  },
  {
   "cell_type": "code",
   "execution_count": 4,
   "metadata": {},
   "outputs": [
    {
     "name": "stdout",
     "output_type": "stream",
     "text": [
      "'ARHGEF1'\n",
      "'CCR2'\n",
      "'JAK2'\n",
      "'JAK2'\n",
      "'JAK2'\n"
     ]
    }
   ],
   "source": [
    "kinase_gene = \"JAK2\"\n",
    "kinase_obj = s.query(KinaseGeneName).filter(KinaseGeneName.gene_alias==kinase_gene).one()\n",
    "for phosphosite in kinase_obj.phosphosites:\n",
    "    pprint(phosphosite.substrate.substrate_name)"
   ]
  },
  {
   "cell_type": "code",
   "execution_count": 5,
   "metadata": {},
   "outputs": [
    {
     "name": "stdout",
     "output_type": "stream",
     "text": [
      "ARHGEF1\n",
      "{'phosphosite': 'Y738', 'chromosome': 19, 'karyotype_band': 'q13.2', 'strand': 1, 'start_position': 41904999, 'end_position': 41905001, 'neighbouring_sequences': 'WDQEAQIyELVAQTV'}\n",
      "CCR2\n",
      "{'phosphosite': 'Y139', 'chromosome': 3, 'karyotype_band': 'p21.31', 'strand': 1, 'start_position': 46357942, 'end_position': 46357944, 'neighbouring_sequences': 'ILLTIDRyLAIVHAV'}\n",
      "JAK2\n",
      "{'phosphosite': 'Y570', 'chromosome': 9, 'karyotype_band': 'p24.1', 'strand': 1, 'start_position': 5072558, 'end_position': 5072560, 'neighbouring_sequences': 'VRREVGDyGQLHETE'}\n",
      "JAK2\n",
      "{'phosphosite': 'Y119', 'chromosome': 9, 'karyotype_band': 'p24.1', 'strand': 1, 'start_position': 5044407, 'end_position': 5044409, 'neighbouring_sequences': 'VLYRIRFyFPRWYCS'}\n",
      "JAK2\n",
      "{'phosphosite': 'S523', 'chromosome': 9, 'karyotype_band': 'p24.1', 'strand': 1, 'start_position': 5069978, 'end_position': 5069980, 'neighbouring_sequences': 'GVSDVPtsPTLQRPT'}\n",
      "{'ARHGEF1': [{'chromosome': 19,\n",
      "              'end_position': 41905001,\n",
      "              'karyotype_band': 'q13.2',\n",
      "              'neighbouring_sequences': 'WDQEAQIyELVAQTV',\n",
      "              'phosphosite': 'Y738',\n",
      "              'start_position': 41904999,\n",
      "              'strand': 1}],\n",
      " 'CCR2': [{'chromosome': 3,\n",
      "           'end_position': 46357944,\n",
      "           'karyotype_band': 'p21.31',\n",
      "           'neighbouring_sequences': 'ILLTIDRyLAIVHAV',\n",
      "           'phosphosite': 'Y139',\n",
      "           'start_position': 46357942,\n",
      "           'strand': 1}],\n",
      " 'JAK2': [{'chromosome': 9,\n",
      "           'end_position': 5072560,\n",
      "           'karyotype_band': 'p24.1',\n",
      "           'neighbouring_sequences': 'VRREVGDyGQLHETE',\n",
      "           'phosphosite': 'Y570',\n",
      "           'start_position': 5072558,\n",
      "           'strand': 1},\n",
      "          {'chromosome': 9,\n",
      "           'end_position': 5044409,\n",
      "           'karyotype_band': 'p24.1',\n",
      "           'neighbouring_sequences': 'VLYRIRFyFPRWYCS',\n",
      "           'phosphosite': 'Y119',\n",
      "           'start_position': 5044407,\n",
      "           'strand': 1},\n",
      "          {'chromosome': 9,\n",
      "           'end_position': 5069980,\n",
      "           'karyotype_band': 'p24.1',\n",
      "           'neighbouring_sequences': 'GVSDVPtsPTLQRPT',\n",
      "           'phosphosite': 'S523',\n",
      "           'start_position': 5069978,\n",
      "           'strand': 1}]}\n"
     ]
    }
   ],
   "source": [
    "tmp = {}\n",
    "kinase_gene = \"JAK2\"\n",
    "kinase_obj = s.query(KinaseGeneName).filter(KinaseGeneName.gene_alias==kinase_gene).one()\n",
    "for phosphosite in kinase_obj.phosphosites:\n",
    "#     tmp = {}\n",
    "    gene = phosphosite.substrate.substrate_name\n",
    "    print(gene)\n",
    "    print(phosphosite.to_dict())\n",
    "    if gene in tmp:\n",
    "        tmp[gene].append(phosphosite.to_dict())\n",
    "    else:\n",
    "        tmp[gene] = [phosphosite.to_dict()]\n",
    "pprint(tmp)"
   ]
  },
  {
   "cell_type": "code",
   "execution_count": 9,
   "metadata": {},
   "outputs": [
    {
     "name": "stdout",
     "output_type": "stream",
     "text": [
      "{'ARHGEF1': [{'phosphosite': 'Y738', 'chromosome': 19, 'karyotype_band': 'q13.2', 'strand': 1, 'start_position': 41904999, 'end_position': 41905001, 'neighbouring_sequences': 'WDQEAQIyELVAQTV'}], 'CCR2': [{'phosphosite': 'Y139', 'chromosome': 3, 'karyotype_band': 'p21.31', 'strand': 1, 'start_position': 46357942, 'end_position': 46357944, 'neighbouring_sequences': 'ILLTIDRyLAIVHAV'}], 'JAK2': [{'phosphosite': 'Y570', 'chromosome': 9, 'karyotype_band': 'p24.1', 'strand': 1, 'start_position': 5072558, 'end_position': 5072560, 'neighbouring_sequences': 'VRREVGDyGQLHETE'}, {'phosphosite': 'Y119', 'chromosome': 9, 'karyotype_band': 'p24.1', 'strand': 1, 'start_position': 5044407, 'end_position': 5044409, 'neighbouring_sequences': 'VLYRIRFyFPRWYCS'}, {'phosphosite': 'S523', 'chromosome': 9, 'karyotype_band': 'p24.1', 'strand': 1, 'start_position': 5069978, 'end_position': 5069980, 'neighbouring_sequences': 'GVSDVPtsPTLQRPT'}]}\n"
     ]
    }
   ],
   "source": [
    "def get_substrates_phosphosites_from_gene(kinase_gene):\n",
    "    \"\"\"\n",
    "    Takes in a gene name of a kinase and return a dictionary of dictionaries.\n",
    "    In each dictionary (inner), the key is the substrate name; the value is a list of dictionary containing the metadata\n",
    "    of phosphosites.\n",
    "    >> get_substrates_phosphosites_from_gene(\"JAK2\")\n",
    "    {'ARHGEF1': [{'phosphosite': 'Y738', 'chromosome': 19, 'karyotype_band': 'q13.2', 'strand': 1, 'start_position': 41904999, \n",
    "    'end_position': 41905001, 'neighbouring_sequences': 'WDQEAQIyELVAQTV'}],...}\n",
    "    \"\"\"\n",
    "    tmp = {}\n",
    "    kinase_gene = \"JAK2\"\n",
    "    kinase_obj = s.query(KinaseGeneName).filter(KinaseGeneName.gene_alias==kinase_gene).one()\n",
    "    for phosphosite in kinase_obj.phosphosites:\n",
    "        gene = phosphosite.substrate.substrate_name\n",
    "        if gene in tmp:\n",
    "            tmp[gene].append(phosphosite.to_dict())\n",
    "        else:\n",
    "            tmp[gene] = [phosphosite.to_dict()]\n",
    "    return tmp\n",
    "print(get_substrates_phosphosites_from_gene(\"JAK2\"))"
   ]
  },
  {
   "cell_type": "markdown",
   "metadata": {},
   "source": [
    "# Returning kinase for the substrate-phospho-inhibitor analysis page"
   ]
  },
  {
   "cell_type": "code",
   "execution_count": 11,
   "metadata": {},
   "outputs": [
    {
     "data": {
      "text/html": [
       "<div>\n",
       "<style scoped>\n",
       "    .dataframe tbody tr th:only-of-type {\n",
       "        vertical-align: middle;\n",
       "    }\n",
       "\n",
       "    .dataframe tbody tr th {\n",
       "        vertical-align: top;\n",
       "    }\n",
       "\n",
       "    .dataframe thead th {\n",
       "        text-align: right;\n",
       "    }\n",
       "</style>\n",
       "<table border=\"1\" class=\"dataframe\">\n",
       "  <thead>\n",
       "    <tr style=\"text-align: right;\">\n",
       "      <th></th>\n",
       "      <th>GENE</th>\n",
       "      <th>KINASE</th>\n",
       "      <th>KIN_ACC_ID</th>\n",
       "      <th>SUBSTRATE</th>\n",
       "      <th>SUB_GENE_ID</th>\n",
       "      <th>SUB_ACC_ID</th>\n",
       "      <th>SUB_GENE</th>\n",
       "      <th>SUB_MOD_RSD</th>\n",
       "      <th>SITE_GRP_ID</th>\n",
       "      <th>SITE_+/-7_AA</th>\n",
       "      <th>DOMAIN</th>\n",
       "      <th>SUB_ENTRY_NAME</th>\n",
       "      <th>KIN_ENTRY_NAME</th>\n",
       "    </tr>\n",
       "  </thead>\n",
       "  <tbody>\n",
       "    <tr>\n",
       "      <td>0</td>\n",
       "      <td>EIF2AK1</td>\n",
       "      <td>HRI</td>\n",
       "      <td>Q9BQI3</td>\n",
       "      <td>eIF2-alpha</td>\n",
       "      <td>1965.0</td>\n",
       "      <td>P05198</td>\n",
       "      <td>EIF2S1</td>\n",
       "      <td>S52</td>\n",
       "      <td>447635</td>\n",
       "      <td>MILLsELsRRRIRsI</td>\n",
       "      <td>S1</td>\n",
       "      <td>IF2A_HUMAN</td>\n",
       "      <td>E2AK1_HUMAN</td>\n",
       "    </tr>\n",
       "    <tr>\n",
       "      <td>1</td>\n",
       "      <td>EIF2AK1</td>\n",
       "      <td>HRI</td>\n",
       "      <td>Q9BQI3</td>\n",
       "      <td>eIF2-alpha</td>\n",
       "      <td>1965.0</td>\n",
       "      <td>P05198</td>\n",
       "      <td>EIF2S1</td>\n",
       "      <td>S49</td>\n",
       "      <td>450210</td>\n",
       "      <td>IEGMILLsELsRRRI</td>\n",
       "      <td>S1</td>\n",
       "      <td>IF2A_HUMAN</td>\n",
       "      <td>E2AK1_HUMAN</td>\n",
       "    </tr>\n",
       "    <tr>\n",
       "      <td>2</td>\n",
       "      <td>PRKCD</td>\n",
       "      <td>PKCD</td>\n",
       "      <td>Q05655</td>\n",
       "      <td>HDAC5</td>\n",
       "      <td>10014.0</td>\n",
       "      <td>Q9UQL6</td>\n",
       "      <td>HDAC5</td>\n",
       "      <td>S259</td>\n",
       "      <td>447995</td>\n",
       "      <td>FPLRkTAsEPNLKVR</td>\n",
       "      <td>NaN</td>\n",
       "      <td>HDAC5_HUMAN</td>\n",
       "      <td>KPCD_HUMAN</td>\n",
       "    </tr>\n",
       "    <tr>\n",
       "      <td>3</td>\n",
       "      <td>PRKCD</td>\n",
       "      <td>PKCD</td>\n",
       "      <td>Q05655</td>\n",
       "      <td>PTPRA iso2</td>\n",
       "      <td>5786.0</td>\n",
       "      <td>P18433</td>\n",
       "      <td>PTPRA</td>\n",
       "      <td>S204</td>\n",
       "      <td>447612</td>\n",
       "      <td>PLLARSPsTNRKYPP</td>\n",
       "      <td>NaN</td>\n",
       "      <td>PTPRA_HUMAN</td>\n",
       "      <td>KPCD_HUMAN</td>\n",
       "    </tr>\n",
       "    <tr>\n",
       "      <td>4</td>\n",
       "      <td>PRKCD</td>\n",
       "      <td>PKCD</td>\n",
       "      <td>Q05655</td>\n",
       "      <td>hnRNP K</td>\n",
       "      <td>3190.0</td>\n",
       "      <td>P61978</td>\n",
       "      <td>HNRNPK</td>\n",
       "      <td>S302</td>\n",
       "      <td>457408</td>\n",
       "      <td>GrGGrGGsrArNLPL</td>\n",
       "      <td>NaN</td>\n",
       "      <td>HNRPK_HUMAN</td>\n",
       "      <td>KPCD_HUMAN</td>\n",
       "    </tr>\n",
       "  </tbody>\n",
       "</table>\n",
       "</div>"
      ],
      "text/plain": [
       "      GENE KINASE KIN_ACC_ID   SUBSTRATE  SUB_GENE_ID SUB_ACC_ID SUB_GENE  \\\n",
       "0  EIF2AK1    HRI     Q9BQI3  eIF2-alpha       1965.0     P05198   EIF2S1   \n",
       "1  EIF2AK1    HRI     Q9BQI3  eIF2-alpha       1965.0     P05198   EIF2S1   \n",
       "2    PRKCD   PKCD     Q05655       HDAC5      10014.0     Q9UQL6    HDAC5   \n",
       "3    PRKCD   PKCD     Q05655  PTPRA iso2       5786.0     P18433    PTPRA   \n",
       "4    PRKCD   PKCD     Q05655     hnRNP K       3190.0     P61978   HNRNPK   \n",
       "\n",
       "  SUB_MOD_RSD  SITE_GRP_ID     SITE_+/-7_AA DOMAIN SUB_ENTRY_NAME  \\\n",
       "0         S52       447635  MILLsELsRRRIRsI     S1     IF2A_HUMAN   \n",
       "1         S49       450210  IEGMILLsELsRRRI     S1     IF2A_HUMAN   \n",
       "2        S259       447995  FPLRkTAsEPNLKVR    NaN    HDAC5_HUMAN   \n",
       "3        S204       447612  PLLARSPsTNRKYPP    NaN    PTPRA_HUMAN   \n",
       "4        S302       457408  GrGGrGGsrArNLPL    NaN    HNRPK_HUMAN   \n",
       "\n",
       "  KIN_ENTRY_NAME  \n",
       "0    E2AK1_HUMAN  \n",
       "1    E2AK1_HUMAN  \n",
       "2     KPCD_HUMAN  \n",
       "3     KPCD_HUMAN  \n",
       "4     KPCD_HUMAN  "
      ]
     },
     "execution_count": 11,
     "metadata": {},
     "output_type": "execute_result"
    }
   ],
   "source": [
    "#making a dummy test list\n",
    "import pandas as pd\n",
    "sub_pho_df = pd.read_csv(\"new_clean_human_kinase_substrates.csv\", index_col=0)\n",
    "sub_pho_df.head()"
   ]
  },
  {
   "cell_type": "code",
   "execution_count": 13,
   "metadata": {},
   "outputs": [
    {
     "data": {
      "text/html": [
       "<div>\n",
       "<style scoped>\n",
       "    .dataframe tbody tr th:only-of-type {\n",
       "        vertical-align: middle;\n",
       "    }\n",
       "\n",
       "    .dataframe tbody tr th {\n",
       "        vertical-align: top;\n",
       "    }\n",
       "\n",
       "    .dataframe thead th {\n",
       "        text-align: right;\n",
       "    }\n",
       "</style>\n",
       "<table border=\"1\" class=\"dataframe\">\n",
       "  <thead>\n",
       "    <tr style=\"text-align: right;\">\n",
       "      <th></th>\n",
       "      <th>substrate</th>\n",
       "      <th>phosphosite</th>\n",
       "    </tr>\n",
       "  </thead>\n",
       "  <tbody>\n",
       "    <tr>\n",
       "      <td>0</td>\n",
       "      <td>EIF2S1</td>\n",
       "      <td>S52</td>\n",
       "    </tr>\n",
       "    <tr>\n",
       "      <td>1</td>\n",
       "      <td>EIF2S1</td>\n",
       "      <td>S49</td>\n",
       "    </tr>\n",
       "    <tr>\n",
       "      <td>2</td>\n",
       "      <td>HDAC5</td>\n",
       "      <td>S259</td>\n",
       "    </tr>\n",
       "    <tr>\n",
       "      <td>3</td>\n",
       "      <td>PTPRA</td>\n",
       "      <td>S204</td>\n",
       "    </tr>\n",
       "    <tr>\n",
       "      <td>4</td>\n",
       "      <td>HNRNPK</td>\n",
       "      <td>S302</td>\n",
       "    </tr>\n",
       "  </tbody>\n",
       "</table>\n",
       "</div>"
      ],
      "text/plain": [
       "  substrate phosphosite\n",
       "0    EIF2S1         S52\n",
       "1    EIF2S1         S49\n",
       "2     HDAC5        S259\n",
       "3     PTPRA        S204\n",
       "4    HNRNPK        S302"
      ]
     },
     "execution_count": 13,
     "metadata": {},
     "output_type": "execute_result"
    }
   ],
   "source": [
    "#pd.concat([df1['c'], df2['c']], axis=1, keys=['df1', 'df2'])\n",
    "dummy_df = pd.concat([sub_pho_df[\"SUB_GENE\"], sub_pho_df[\"SUB_MOD_RSD\"]], axis=1, keys=[\"substrate\", \"phosphosite\"])\n",
    "dummy_df.head()"
   ]
  },
  {
   "cell_type": "code",
   "execution_count": 20,
   "metadata": {},
   "outputs": [
    {
     "ename": "TypeError",
     "evalue": "'int' object is not iterable",
     "output_type": "error",
     "traceback": [
      "\u001b[0;31m---------------------------------------------------------------------------\u001b[0m",
      "\u001b[0;31mTypeError\u001b[0m                                 Traceback (most recent call last)",
      "\u001b[0;32m<ipython-input-20-93ad3e7b5cb2>\u001b[0m in \u001b[0;36m<module>\u001b[0;34m\u001b[0m\n\u001b[0;32m----> 1\u001b[0;31m \u001b[0;32mfor\u001b[0m \u001b[0mi\u001b[0m \u001b[0;32min\u001b[0m \u001b[0mlen\u001b[0m\u001b[0;34m(\u001b[0m\u001b[0mdummy_df\u001b[0m\u001b[0;34m)\u001b[0m\u001b[0;34m:\u001b[0m\u001b[0;34m\u001b[0m\u001b[0;34m\u001b[0m\u001b[0m\n\u001b[0m\u001b[1;32m      2\u001b[0m     \u001b[0mprint\u001b[0m\u001b[0;34m(\u001b[0m\u001b[0mdummy_df\u001b[0m\u001b[0;34m.\u001b[0m\u001b[0miloc\u001b[0m\u001b[0;34m[\u001b[0m\u001b[0mi\u001b[0m\u001b[0;34m]\u001b[0m\u001b[0;34m)\u001b[0m\u001b[0;34m\u001b[0m\u001b[0;34m\u001b[0m\u001b[0m\n",
      "\u001b[0;31mTypeError\u001b[0m: 'int' object is not iterable"
     ]
    }
   ],
   "source": [
    "for i in len(dummy_df):\n",
    "    print(dummy_df.iloc[i])"
   ]
  },
  {
   "cell_type": "code",
   "execution_count": null,
   "metadata": {},
   "outputs": [],
   "source": [
    "area_dict = lake.set_index('area').T.to_dict('records')[0]\n",
    "area"
   ]
  }
 ],
 "metadata": {
  "kernelspec": {
   "display_name": "Python 3",
   "language": "python",
   "name": "python3"
  },
  "language_info": {
   "codemirror_mode": {
    "name": "ipython",
    "version": 3
   },
   "file_extension": ".py",
   "mimetype": "text/x-python",
   "name": "python",
   "nbconvert_exporter": "python",
   "pygments_lexer": "ipython3",
   "version": "3.7.4"
  }
 },
 "nbformat": 4,
 "nbformat_minor": 2
}
