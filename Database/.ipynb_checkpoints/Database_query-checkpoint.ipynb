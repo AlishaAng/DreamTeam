{
 "cells": [
  {
   "cell_type": "markdown",
   "metadata": {},
   "source": [
    "# Project Firefox MK I"
   ]
  },
  {
   "cell_type": "code",
   "execution_count": null,
   "metadata": {},
   "outputs": [],
   "source": [
    "#calling library\n",
    "from kinase_declarative import *\n",
    "from sqlalchemy import create_engine\n",
    "from sqlalchemy.orm import sessionmaker"
   ]
  },
  {
   "cell_type": "code",
   "execution_count": null,
   "metadata": {},
   "outputs": [],
   "source": [
    "#create engine and bine the engine\n",
    "engine = create_engine(\"sqlite:///kinase_database.db\")\n",
    "Base.metadata.bind = engine"
   ]
  },
  {
   "cell_type": "code",
   "execution_count": null,
   "metadata": {},
   "outputs": [],
   "source": [
    "#create a session object\n",
    "session = sessionmaker(bind=engine)\n",
    "s = session()"
   ]
  },
  {
   "cell_type": "markdown",
   "metadata": {},
   "source": [
    "## Get Uniprot gene_name and alias related to a kinase of query"
   ]
  },
  {
   "cell_type": "code",
   "execution_count": null,
   "metadata": {},
   "outputs": [],
   "source": [
    "#search for things related to MAPK1\n",
    "kinase = \"MAPK1\"\n",
    "kinase_query = s.query(KinaseGeneName).filter(KinaseGeneName.gene_alias==kinase).one()\n",
    "kinase_query.to_dict()"
   ]
  },
  {
   "cell_type": "code",
   "execution_count": null,
   "metadata": {},
   "outputs": [],
   "source": [
    "def get_uniprot_gene_name(kinase):\n",
    "    \"\"\"\n",
    "    Returns the preferred uniprot gene name.\n",
    "    Returns a dictionary.\n",
    "    \"\"\"\n",
    "    kinase_match = s.query(KinaseGeneName).filter(KinaseGeneName.gene_alias==kinase).one()\n",
    "    return dict(kinase_match.to_dict())\n",
    "    "
   ]
  },
  {
   "cell_type": "code",
   "execution_count": 60,
   "metadata": {},
   "outputs": [
    {
     "name": "stdout",
     "output_type": "stream",
     "text": [
      "{'gene_name': 'MAPK1', 'gene_alias': 'MAPK1'}\n"
     ]
    }
   ],
   "source": [
    "#testing the functions\n",
    "kinase = \"MAPK1\"\n",
    "print(get_uniprot_gene_name(kinase))"
   ]
  },
  {
   "cell_type": "code",
   "execution_count": null,
   "metadata": {},
   "outputs": [],
   "source": [
    "kinase=\"PRKM1\"\n",
    "print(get_uniprot_gene_name(kinase))"
   ]
  },
  {
   "cell_type": "code",
   "execution_count": null,
   "metadata": {},
   "outputs": [],
   "source": [
    "#test error\n",
    "kinase = \"error\"\n",
    "print(get_uniprot_gene_name(kinase))\n",
    "#this will return error when run"
   ]
  },
  {
   "cell_type": "markdown",
   "metadata": {},
   "source": [
    "## Get meta data for a gene name:"
   ]
  },
  {
   "cell_type": "code",
   "execution_count": 49,
   "metadata": {},
   "outputs": [
    {
     "data": {
      "text/plain": [
       "{'protein_name': 'Mitogen-activated protein kinase 1',\n",
       " 'uniprot_number': 'P28482',\n",
       " 'uniprot_entry': 'MK01_HUMAN',\n",
       " 'gene_name': 'MAPK1',\n",
       " 'kinase_family': 'CMGC Ser/Thr protein kinase family'}"
      ]
     },
     "execution_count": 49,
     "metadata": {},
     "output_type": "execute_result"
    }
   ],
   "source": [
    "#get the meta data for a kinase whose name is the preferred name of uniprot\n",
    "kinase = 'MAPK1'\n",
    "kinase_query = s.query(KinaseGeneMeta).filter(KinaseGeneMeta.gene_name==kinase).one()\n",
    "kinase_query.to_dict()"
   ]
  },
  {
   "cell_type": "code",
   "execution_count": 50,
   "metadata": {},
   "outputs": [
    {
     "data": {
      "text/plain": [
       "{'protein_name': 'Mitogen-activated protein kinase 1',\n",
       " 'uniprot_number': 'P28482',\n",
       " 'uniprot_entry': 'MK01_HUMAN',\n",
       " 'gene_name': 'MAPK1',\n",
       " 'kinase_family': 'CMGC Ser/Thr protein kinase family'}"
      ]
     },
     "execution_count": 50,
     "metadata": {},
     "output_type": "execute_result"
    }
   ],
   "source": [
    "#getting the meta data of a kinase who name is an alias\n",
    "kinase = \"PRKM1\"\n",
    "kinase_query = s.query(KinaseGeneMeta).join(KinaseGeneName).filter(KinaseGeneName.gene_alias==kinase).one()\n",
    "kinase_query.to_dict()"
   ]
  },
  {
   "cell_type": "code",
   "execution_count": 51,
   "metadata": {},
   "outputs": [],
   "source": [
    "#getting the meta data of the kinase gene regardless of whether the name is the prefered gene name in uniprot or not\n",
    "def get_meta_data(kinase):\n",
    "    \"\"\"\n",
    "    Return the metadata of a gene based on its kinase gene name.\n",
    "    It can be the prefered gene name or the alias/ synonyms.\n",
    "    Returns an error if no gene was found.\n",
    "    Returns a dictionary\n",
    "    \"\"\"\n",
    "    kinase_query = s.query(KinaseGeneMeta).join(KinaseGeneName).filter(KinaseGeneName.gene_alias==kinase).one()\n",
    "    return kinase_query.to_dict()"
   ]
  },
  {
   "cell_type": "code",
   "execution_count": 52,
   "metadata": {},
   "outputs": [
    {
     "name": "stdout",
     "output_type": "stream",
     "text": [
      "{'protein_name': 'Serine/threonine-protein kinase LMTK1', 'uniprot_number': 'Q6ZMQ8', 'uniprot_entry': 'LMTK1_HUMAN', 'gene_name': 'AATK', 'kinase_family': 'Tyr protein kinase family'}\n"
     ]
    }
   ],
   "source": [
    "kinase = \"KIAA0641\"\n",
    "print(get_meta_data(kinase))"
   ]
  },
  {
   "cell_type": "markdown",
   "metadata": {},
   "source": [
    "## Get subcellular location for a gene"
   ]
  },
  {
   "cell_type": "code",
   "execution_count": 59,
   "metadata": {},
   "outputs": [
    {
     "name": "stdout",
     "output_type": "stream",
     "text": [
      "Cytosol\n",
      "Cytoplasm\n"
     ]
    }
   ],
   "source": [
    "kinase = \"ALPK1\"\n",
    "kinase_query = s.query(KinaseSubcellularLocation).join(KinaseGeneName).filter(KinaseGeneName.gene_alias==kinase).all()\n",
    "kinase_query[-1].to_dict()\n",
    "for row in kinase_query:\n",
    "    print(row.subcellular_location)"
   ]
  },
  {
   "cell_type": "code",
   "execution_count": 71,
   "metadata": {},
   "outputs": [
    {
     "name": "stdout",
     "output_type": "stream",
     "text": [
      "[{'subcellular_location_id': 129, 'gene_name': 'ALPK1', 'subcellular_location': 'Cytosol'}, {'subcellular_location_id': 130, 'gene_name': 'ALPK1', 'subcellular_location': 'Cytoplasm'}]\n"
     ]
    }
   ],
   "source": [
    "def get_subcellular_location(kinase):\n",
    "    \"\"\"\n",
    "    Returns a list of subcellular location as an object for a kinase.\n",
    "    \"\"\"\n",
    "    results = []\n",
    "    kinase_query = s.query(KinaseSubcellularLocation).join(KinaseGeneName).filter(KinaseGeneName.gene_alias==kinase).all()\n",
    "    for row in kinase_query:\n",
    "        results.append(row.to_dict())\n",
    "    return results\n",
    "kinase = \"ALPK1\"\n",
    "print(get_subcellular_location(kinase))"
   ]
  },
  {
   "cell_type": "markdown",
   "metadata": {},
   "source": [
    "## Get inhibitor for a gene"
   ]
  },
  {
   "cell_type": "code",
   "execution_count": 67,
   "metadata": {},
   "outputs": [
    {
     "name": "stdout",
     "output_type": "stream",
     "text": [
      "{'inhibitor_id': 1, 'inhibitor': 'GSK650394A', 'antagonizes_gene': 'SGK1', 'molecular_weight': 382.45, 'images_url': 'http://www.kinase-screen.mrc.ac.uk/system/files/compounds/jpg/gsk-50394_5.jpg', 'empirical_formula': 'C25H22N2O2'}\n",
      "{'inhibitor_id': 2, 'inhibitor': 'SGK-Sanofi-14i', 'antagonizes_gene': 'SGK1', 'molecular_weight': 430.87, 'images_url': 'http://www.kinase-screen.mrc.ac.uk/system/files/compounds/jpg/SGK1-Sanofi-14i.jpg', 'empirical_formula': 'C18H15ClN6O3S'}\n",
      "{'inhibitor_id': 3, 'inhibitor': 'SGK1-Sanofi-14g', 'antagonizes_gene': 'SGK1', 'molecular_weight': 435.29, 'images_url': 'http://www.kinase-screen.mrc.ac.uk/system/files/compounds/jpg/SGK1-Sanofi--14g.jpg', 'empirical_formula': 'C17H12Cl2N6O2S'}\n",
      "{'inhibitor_id': 4, 'inhibitor': 'SGK1-Sanofi-14h', 'antagonizes_gene': 'SGK1', 'molecular_weight': 435.29, 'images_url': 'http://www.kinase-screen.mrc.ac.uk/system/files/compounds/jpg/SGK1-Sanofi-14h_0.jpg', 'empirical_formula': 'C17H12Cl2N6O2S'}\n",
      "{'inhibitor_id': 5, 'inhibitor': 'SGK1-Sanofi-14n', 'antagonizes_gene': 'SGK1', 'molecular_weight': 418.83, 'images_url': 'http://www.kinase-screen.mrc.ac.uk/system/files/compounds/jpg/SGK1-Sanofi--14n.jpg', 'empirical_formula': 'C17H12CIFN6O2S'}\n"
     ]
    }
   ],
   "source": [
    "#print out each object as a dictionary\n",
    "kinase = \"SGK1\"\n",
    "kinase_query = s.query(Inhibitor).join(KinaseGeneName).filter(KinaseGeneName.gene_alias==kinase).all()\n",
    "for row in kinase_query:\n",
    "    print(row.to_dict())"
   ]
  },
  {
   "cell_type": "code",
   "execution_count": 68,
   "metadata": {},
   "outputs": [
    {
     "name": "stdout",
     "output_type": "stream",
     "text": [
      "GSK650394A\n",
      "SGK-Sanofi-14i\n",
      "SGK1-Sanofi-14g\n",
      "SGK1-Sanofi-14h\n",
      "SGK1-Sanofi-14n\n"
     ]
    }
   ],
   "source": [
    "#print out each object's inhibitor\n",
    "kinase = \"SGK1\"\n",
    "kinase_query = s.query(Inhibitor).join(KinaseGeneName).filter(KinaseGeneName.gene_alias==kinase).all()\n",
    "for row in kinase_query:\n",
    "    print(row.inhibitor)"
   ]
  },
  {
   "cell_type": "code",
   "execution_count": 73,
   "metadata": {},
   "outputs": [
    {
     "data": {
      "text/plain": [
       "[{'inhibitor_id': 94,\n",
       "  'inhibitor': 'MRT199665',\n",
       "  'antagonizes_gene': 'MARK1',\n",
       "  'molecular_weight': 506.04,\n",
       "  'images_url': 'http://www.kinase-screen.mrc.ac.uk/system/files/compounds/jpg/mrt-199665.jpg',\n",
       "  'empirical_formula': 'C28H31N5O2.ClH'}]"
      ]
     },
     "execution_count": 73,
     "metadata": {},
     "output_type": "execute_result"
    }
   ],
   "source": [
    "def get_inhibitor(kinase):\n",
    "    \"\"\"\n",
    "    Return a list of dictionaries.\n",
    "    \"\"\"\n",
    "    results = []\n",
    "    kinase_query = s.query(Inhibitor).join(KinaseGeneName).filter(KinaseGeneName.gene_alias==kinase).all()\n",
    "    for row in kinase_query:\n",
    "        results.append(row.to_dict())\n",
    "    return results\n",
    "kinase = \"MARK1\"\n",
    "get_inhibitor(kinase)"
   ]
  },
  {
   "cell_type": "markdown",
   "metadata": {},
   "source": [
    "## Get substrates meta data"
   ]
  },
  {
   "cell_type": "code",
   "execution_count": 74,
   "metadata": {},
   "outputs": [
    {
     "ename": "InvalidRequestError",
     "evalue": "Don't know how to join to <class 'kinase_declarative.KinaseGeneName'>; please use an ON clause to more clearly establish the left side of this join",
     "output_type": "error",
     "traceback": [
      "\u001b[0;31m---------------------------------------------------------------------------\u001b[0m",
      "\u001b[0;31mInvalidRequestError\u001b[0m                       Traceback (most recent call last)",
      "\u001b[0;32m<ipython-input-74-a9888931d626>\u001b[0m in \u001b[0;36m<module>\u001b[0;34m\u001b[0m\n\u001b[1;32m      1\u001b[0m \u001b[0mkinase\u001b[0m \u001b[0;34m=\u001b[0m \u001b[0;34m\"MAPK1\"\u001b[0m\u001b[0;34m\u001b[0m\u001b[0;34m\u001b[0m\u001b[0m\n\u001b[0;32m----> 2\u001b[0;31m \u001b[0mkinase_query\u001b[0m \u001b[0;34m=\u001b[0m \u001b[0ms\u001b[0m\u001b[0;34m.\u001b[0m\u001b[0mquery\u001b[0m\u001b[0;34m(\u001b[0m\u001b[0mSubstrateMeta\u001b[0m\u001b[0;34m)\u001b[0m\u001b[0;34m.\u001b[0m\u001b[0mjoin\u001b[0m\u001b[0;34m(\u001b[0m\u001b[0mKinaseGeneName\u001b[0m\u001b[0;34m)\u001b[0m\u001b[0;34m.\u001b[0m\u001b[0mjoin\u001b[0m\u001b[0;34m(\u001b[0m\u001b[0mKinaseSubstrateRelations\u001b[0m\u001b[0;34m)\u001b[0m\u001b[0;34m.\u001b[0m\u001b[0mjoin\u001b[0m\u001b[0;34m(\u001b[0m\u001b[0mPhosphositeMeta\u001b[0m\u001b[0;34m)\u001b[0m\u001b[0;34m.\u001b[0m\u001b[0mfilter\u001b[0m\u001b[0;34m(\u001b[0m\u001b[0mKinaseGeneName\u001b[0m\u001b[0;34m.\u001b[0m\u001b[0mgene_alias\u001b[0m\u001b[0;34m==\u001b[0m\u001b[0mkinase\u001b[0m\u001b[0;34m)\u001b[0m\u001b[0;34m.\u001b[0m\u001b[0mall\u001b[0m\u001b[0;34m(\u001b[0m\u001b[0;34m)\u001b[0m\u001b[0;34m\u001b[0m\u001b[0;34m\u001b[0m\u001b[0m\n\u001b[0m",
      "\u001b[0;32m~/anaconda3/lib/python3.7/site-packages/sqlalchemy/orm/query.py\u001b[0m in \u001b[0;36mjoin\u001b[0;34m(self, *props, **kwargs)\u001b[0m\n\u001b[1;32m   2241\u001b[0m             \u001b[0mfull\u001b[0m\u001b[0;34m=\u001b[0m\u001b[0mfull\u001b[0m\u001b[0;34m,\u001b[0m\u001b[0;34m\u001b[0m\u001b[0;34m\u001b[0m\u001b[0m\n\u001b[1;32m   2242\u001b[0m             \u001b[0mcreate_aliases\u001b[0m\u001b[0;34m=\u001b[0m\u001b[0maliased\u001b[0m\u001b[0;34m,\u001b[0m\u001b[0;34m\u001b[0m\u001b[0;34m\u001b[0m\u001b[0m\n\u001b[0;32m-> 2243\u001b[0;31m             \u001b[0mfrom_joinpoint\u001b[0m\u001b[0;34m=\u001b[0m\u001b[0mfrom_joinpoint\u001b[0m\u001b[0;34m,\u001b[0m\u001b[0;34m\u001b[0m\u001b[0;34m\u001b[0m\u001b[0m\n\u001b[0m\u001b[1;32m   2244\u001b[0m         )\n\u001b[1;32m   2245\u001b[0m \u001b[0;34m\u001b[0m\u001b[0m\n",
      "\u001b[0;32m<string>\u001b[0m in \u001b[0;36m_join\u001b[0;34m(self, keys, outerjoin, full, create_aliases, from_joinpoint)\u001b[0m\n",
      "\u001b[0;32m~/anaconda3/lib/python3.7/site-packages/sqlalchemy/orm/base.py\u001b[0m in \u001b[0;36mgenerate\u001b[0;34m(fn, *args, **kw)\u001b[0m\n\u001b[1;32m    218\u001b[0m         \u001b[0;32mfor\u001b[0m \u001b[0massertion\u001b[0m \u001b[0;32min\u001b[0m \u001b[0massertions\u001b[0m\u001b[0;34m:\u001b[0m\u001b[0;34m\u001b[0m\u001b[0;34m\u001b[0m\u001b[0m\n\u001b[1;32m    219\u001b[0m             \u001b[0massertion\u001b[0m\u001b[0;34m(\u001b[0m\u001b[0mself\u001b[0m\u001b[0;34m,\u001b[0m \u001b[0mfn\u001b[0m\u001b[0;34m.\u001b[0m\u001b[0m__name__\u001b[0m\u001b[0;34m)\u001b[0m\u001b[0;34m\u001b[0m\u001b[0;34m\u001b[0m\u001b[0m\n\u001b[0;32m--> 220\u001b[0;31m         \u001b[0mfn\u001b[0m\u001b[0;34m(\u001b[0m\u001b[0mself\u001b[0m\u001b[0;34m,\u001b[0m \u001b[0;34m*\u001b[0m\u001b[0margs\u001b[0m\u001b[0;34m[\u001b[0m\u001b[0;36m1\u001b[0m\u001b[0;34m:\u001b[0m\u001b[0;34m]\u001b[0m\u001b[0;34m,\u001b[0m \u001b[0;34m**\u001b[0m\u001b[0mkw\u001b[0m\u001b[0;34m)\u001b[0m\u001b[0;34m\u001b[0m\u001b[0;34m\u001b[0m\u001b[0m\n\u001b[0m\u001b[1;32m    221\u001b[0m         \u001b[0;32mreturn\u001b[0m \u001b[0mself\u001b[0m\u001b[0;34m\u001b[0m\u001b[0;34m\u001b[0m\u001b[0m\n\u001b[1;32m    222\u001b[0m \u001b[0;34m\u001b[0m\u001b[0m\n",
      "\u001b[0;32m~/anaconda3/lib/python3.7/site-packages/sqlalchemy/orm/query.py\u001b[0m in \u001b[0;36m_join\u001b[0;34m(self, keys, outerjoin, full, create_aliases, from_joinpoint)\u001b[0m\n\u001b[1;32m   2420\u001b[0m             \u001b[0;31m# ORMJoin to add to our _from_obj tuple\u001b[0m\u001b[0;34m\u001b[0m\u001b[0;34m\u001b[0m\u001b[0;34m\u001b[0m\u001b[0m\n\u001b[1;32m   2421\u001b[0m             self._join_left_to_right(\n\u001b[0;32m-> 2422\u001b[0;31m                 \u001b[0mleft\u001b[0m\u001b[0;34m,\u001b[0m \u001b[0mright\u001b[0m\u001b[0;34m,\u001b[0m \u001b[0monclause\u001b[0m\u001b[0;34m,\u001b[0m \u001b[0mprop\u001b[0m\u001b[0;34m,\u001b[0m \u001b[0mcreate_aliases\u001b[0m\u001b[0;34m,\u001b[0m \u001b[0mouterjoin\u001b[0m\u001b[0;34m,\u001b[0m \u001b[0mfull\u001b[0m\u001b[0;34m\u001b[0m\u001b[0;34m\u001b[0m\u001b[0m\n\u001b[0m\u001b[1;32m   2423\u001b[0m             )\n\u001b[1;32m   2424\u001b[0m \u001b[0;34m\u001b[0m\u001b[0m\n",
      "\u001b[0;32m~/anaconda3/lib/python3.7/site-packages/sqlalchemy/orm/query.py\u001b[0m in \u001b[0;36m_join_left_to_right\u001b[0;34m(self, left, right, onclause, prop, create_aliases, outerjoin, full)\u001b[0m\n\u001b[1;32m   2443\u001b[0m                 \u001b[0mreplace_from_obj_index\u001b[0m\u001b[0;34m,\u001b[0m\u001b[0;34m\u001b[0m\u001b[0;34m\u001b[0m\u001b[0m\n\u001b[1;32m   2444\u001b[0m                 \u001b[0muse_entity_index\u001b[0m\u001b[0;34m,\u001b[0m\u001b[0;34m\u001b[0m\u001b[0;34m\u001b[0m\u001b[0m\n\u001b[0;32m-> 2445\u001b[0;31m             ) = self._join_determine_implicit_left_side(left, right, onclause)\n\u001b[0m\u001b[1;32m   2446\u001b[0m         \u001b[0;32melse\u001b[0m\u001b[0;34m:\u001b[0m\u001b[0;34m\u001b[0m\u001b[0;34m\u001b[0m\u001b[0m\n\u001b[1;32m   2447\u001b[0m             \u001b[0;31m# left is given via a relationship/name.  Determine where in our\u001b[0m\u001b[0;34m\u001b[0m\u001b[0;34m\u001b[0m\u001b[0;34m\u001b[0m\u001b[0m\n",
      "\u001b[0;32m~/anaconda3/lib/python3.7/site-packages/sqlalchemy/orm/query.py\u001b[0m in \u001b[0;36m_join_determine_implicit_left_side\u001b[0;34m(self, left, right, onclause)\u001b[0m\n\u001b[1;32m   2585\u001b[0m                     \u001b[0;34m\"Don't know how to join to %s; please use \"\u001b[0m\u001b[0;34m\u001b[0m\u001b[0;34m\u001b[0m\u001b[0m\n\u001b[1;32m   2586\u001b[0m                     \u001b[0;34m\"an ON clause to more clearly establish the left \"\u001b[0m\u001b[0;34m\u001b[0m\u001b[0;34m\u001b[0m\u001b[0m\n\u001b[0;32m-> 2587\u001b[0;31m                     \u001b[0;34m\"side of this join\"\u001b[0m \u001b[0;34m%\u001b[0m \u001b[0;34m(\u001b[0m\u001b[0mright\u001b[0m\u001b[0;34m,\u001b[0m\u001b[0;34m)\u001b[0m\u001b[0;34m\u001b[0m\u001b[0;34m\u001b[0m\u001b[0m\n\u001b[0m\u001b[1;32m   2588\u001b[0m                 )\n\u001b[1;32m   2589\u001b[0m         \u001b[0;32melse\u001b[0m\u001b[0;34m:\u001b[0m\u001b[0;34m\u001b[0m\u001b[0;34m\u001b[0m\u001b[0m\n",
      "\u001b[0;31mInvalidRequestError\u001b[0m: Don't know how to join to <class 'kinase_declarative.KinaseGeneName'>; please use an ON clause to more clearly establish the left side of this join"
     ]
    }
   ],
   "source": [
    "kinase = \"MAPK1\"\n",
    "kinase_query = s.query(SubstrateMeta).join(KinaseGeneName, ).join(KinaseSubstrateRelations).join(PhosphositeMeta).filter(KinaseGeneName.gene_alias==kinase).all()"
   ]
  }
 ],
 "metadata": {
  "kernelspec": {
   "display_name": "Python 3",
   "language": "python",
   "name": "python3"
  },
  "language_info": {
   "codemirror_mode": {
    "name": "ipython",
    "version": 3
   },
   "file_extension": ".py",
   "mimetype": "text/x-python",
   "name": "python",
   "nbconvert_exporter": "python",
   "pygments_lexer": "ipython3",
   "version": "3.7.4"
  }
 },
 "nbformat": 4,
 "nbformat_minor": 2
}
