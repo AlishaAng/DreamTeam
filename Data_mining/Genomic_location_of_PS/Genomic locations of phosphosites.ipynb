{
 "cells": [
  {
   "cell_type": "markdown",
   "metadata": {},
   "source": [
    "# Finding the genomic location of specific phosphosites on the substrates of human protein kinases."
   ]
  },
  {
   "cell_type": "markdown",
   "metadata": {},
   "source": [
    "Using a dataset containing kinase-substrate interactions create a dataframe with genomic location of particuclar phosphosites and their neighbouring amino acid sequences."
   ]
  },
  {
   "cell_type": "code",
   "execution_count": null,
   "metadata": {},
   "outputs": [],
   "source": [
    "#Install required packages.\n",
    "!pip install requests\n",
    "!pip install pandas"
   ]
  },
  {
   "cell_type": "code",
   "execution_count": 4,
   "metadata": {},
   "outputs": [],
   "source": [
    "#Import required packagaes\n",
    "import pandas as pd\n",
    "import numpy as np\n",
    "import re\n",
    "import requests\n",
    "import collections"
   ]
  },
  {
   "cell_type": "markdown",
   "metadata": {},
   "source": [
    "# Genomic location of substrate genes.\n",
    "From kinase/substrate interaction data create a file containing only substrate gene accession numbers."
   ]
  },
  {
   "cell_type": "code",
   "execution_count": 3,
   "metadata": {},
   "outputs": [],
   "source": [
    "#Read file with all kinase and substrate data.\n",
    "hk_sub_df = pd.read_csv(\"new_clean_human_kinase_substrates.csv\")\n",
    "#Remove gene name duplicates-this is due to multiple PS being on some substrates.\n",
    "hk_sub_df=hk_sub_df.drop_duplicates(subset='SUB_ACC_ID', keep='first', inplace=False)\n",
    "\n",
    "\n",
    "#Create a new csv file containing only substrate gene accession numbers. \n",
    "hk_sub_Acc=hk_sub_df['SUB_ACC_ID']\n",
    "hk_sub_Acc.to_csv('hk_sub_Acc.csv', sep=',', header=False, index=False) #This file will be uploaded to the ensembl biomart search."
   ]
  },
  {
   "cell_type": "markdown",
   "metadata": {},
   "source": [
    "Create a dataframe containing substrate gene locations by merging dataframes according to gene accession numbers."
   ]
  },
  {
   "cell_type": "code",
   "execution_count": 7,
   "metadata": {},
   "outputs": [
    {
     "name": "stdout",
     "output_type": "stream",
     "text": [
      "  SUB_GENE SUB_ACC_ID Chromosome Karyotype band  Strand\n",
      "0    PHGDH     O43175          1            p12       1\n",
      "1    CASQ2     O14958          1          p13.1      -1\n",
      "2   ATP1A1     P05023          1          p13.1       1\n",
      "3   CAPZA1     P52907          1          p13.2       1\n",
      "4    SIKE1     Q9BRV8          1          p13.2      -1\n"
     ]
    }
   ],
   "source": [
    "#Create a dataframe containing gene names and gene accession IDs -genome location data will be added to this.\n",
    "hk_sub_GeneNames_Acc=hk_sub_df[['SUB_GENE', 'SUB_ACC_ID']]\n",
    "\n",
    "\n",
    "\n",
    "#Read in file with chromosomal locations of substrate genes generated from ensemble biomart.\n",
    "Biomart_sub_gene_locations_df = pd.read_csv(\"Biomart_sub_gene_locations.csv\")\n",
    "Biomart_sub_gene_locations_df.columns=['SUB_GENE', 'Chromosome', 'Karyotype band', 'Strand'] #Change column names.\n",
    "\n",
    "\n",
    "\n",
    "#Merge data frames to have substrate gene: name, accession number, genomic location, .\n",
    "Sub_GeneLocation_df=pd.merge(hk_sub_GeneNames_Acc, Biomart_sub_gene_locations_df, on='SUB_GENE') #Merge dataframe based on gene name.\n",
    "\n",
    "\n",
    "\n",
    "Sub_GeneLocation_df=Sub_GeneLocation_df.sort_values([\"Chromosome\",'Karyotype band'] , axis = 0, ascending =[True, True]) #Sort df by Chromosome and Karytopye band.\n",
    "Sub_GeneLocation_df=Sub_GeneLocation_df.reset_index(drop=True) #Reset index\n"
   ]
  },
  {
   "cell_type": "markdown",
   "metadata": {},
   "source": [
    "# Extracting genomic location of phosphosites\n",
    "Using a url extract coordinate information for residues on the substrates."
   ]
  },
  {
   "cell_type": "code",
   "execution_count": 9,
   "metadata": {},
   "outputs": [],
   "source": [
    "#Create an empty dataframe into which extracted data will be added.\n",
    "Sub_PS_Genomic_Loc_df=pd.DataFrame(columns=['SUB_ACC_ID', 'Amino acid', 'Position', 'Start co', 'End co'])\n",
    "\n",
    "#Read in Substrate gene location file to create data frame with accession numbers only.\n",
    "hk_sub_df=pd.read_csv(\"Sub_GeneLocation_df.csv\")\n",
    "hk_sub_acc_df=hk_sub_df['SUB_ACC_ID']\n",
    "# print(len(hk_sub_acc_df))\n",
    "# hk_sub_acc_df_test=hk_sub_acc_df[0:500]\n",
    "\n",
    "#Extracting phosphosite information from Ebi.\n",
    "\n",
    "for i in hk_sub_acc_df:\n",
    "    url = 'https://www.ebi.ac.uk/proteins/api/coordinates/{}'.format(i)  #Itterating through accession numbers create a url for each accession number.\n",
    "    r = requests.get(url)  #Obtain url information.\n",
    "    r_txt=r.text    #Convert url information into text.\n",
    "    MR_info=re.findall('(?<=modified )(.*?)(?=feature)', r_txt) #Find all sections of the text which contain the information about modified residues which includes phosphosites.\n",
    "   \n",
    "    \n",
    "#Create regular expressions to extract phosphosite position, amino acid, start and end coordinates.\n",
    "#Create empty lists for the different data to be stored.\n",
    "\n",
    "     #Position\n",
    "    regex_ps_pos= re.compile('(?<=position=\")(.*?)(?=\")')\n",
    "    ps_pos=[]\n",
    "\n",
    "    #AA\n",
    "    regex_ps_aa= re.compile('(?<=Phospho)(.*?)(?=<|;)')\n",
    "    ps_aa=[]\n",
    "\n",
    "    #Start\n",
    "    regex_ps_gs= re.compile('(?<=begin position=\")(.*?)(?=\")')\n",
    "    ps_gs=[]\n",
    "\n",
    "    #End\n",
    "    regex_ps_ge= re.compile('(?<=end position=\")(.*?)(?=\")')\n",
    "    ps_ge=[]\n",
    "    Sub_Acc=[]\n",
    "    for entry in MR_info:                            #Itterating through each modified residue information section.\n",
    "        Sub_Acc.append(i)                            #Add the accession number of the gene to a list so each entry contains the gene accession number.\n",
    "        for p in re.findall(regex_ps_pos, entry):    #Find the position of the phosphosite.\n",
    "            if len(p)<=4:                            #Only add to the positions list if value is less than or equal to 4 digits to avoid adding genomic coordinates.\n",
    "                ps_pos.append(p)\n",
    "        for a in re.findall(regex_ps_aa, entry):     #Find amino acid at phosphosite and append to relevent list.\n",
    "            ps_aa.append(a)                        \n",
    "        for s in re.findall(regex_ps_gs, entry):     #Find start coordinate of phosphosite and append to relevent list.\n",
    "            ps_gs.append(s)\n",
    "        for e in re.findall(regex_ps_ge, entry):     #Find end coordinate of phosphosite and append to relevent list.\n",
    "            ps_ge.append(e)\n",
    "            \n",
    "#Zip all the lists and append to dataframe created previously. Change column names.\n",
    "    Sub_PS_Genomic_Loc_df = Sub_PS_Genomic_Loc_df.append(pd.DataFrame((zip(Sub_Acc, ps_aa, ps_pos, ps_gs, ps_ge)), columns =['SUB_ACC_ID', 'Amino acid', 'Position', 'Start co', 'End co']))\n",
    "\n",
    "#Convert amino acid names to one letter codes. \n",
    "Sub_PS_Genomic_Loc_df=Sub_PS_Genomic_Loc_df.replace(['serine.','serine'], 'S')\n",
    "Sub_PS_Genomic_Loc_df=Sub_PS_Genomic_Loc_df.replace(['threonine.', 'threonine'], 'T')\n",
    "Sub_PS_Genomic_Loc_df=Sub_PS_Genomic_Loc_df.replace(['tyrosine.', 'tyrosine'], 'Y')\n",
    "\n",
    "#Combine phosphosite amino acid and position to have standardised information which can later be used to merge dataframes.\n",
    "Sub_PS_Genomic_Loc_df['PS'] = Sub_PS_Genomic_Loc_df['Amino acid'] + Sub_PS_Genomic_Loc_df['Position']\n",
    "\n",
    "del Sub_PS_Genomic_Loc_df['Amino acid'] #Delete columns which are no longer required.\n",
    "del Sub_PS_Genomic_Loc_df['Position']\n",
    "\n",
    "#Re order columns\n",
    "Sub_PS_Genomic_Loc_df = Sub_PS_Genomic_Loc_df[['SUB_ACC_ID', 'PS', 'Start co', 'End co']]\n",
    "\n",
    "\n",
    "#Generate a csv file from the dataframe created.\n",
    "Sub_PS_Genomic_Loc_df.to_csv('PS_genomic_locations.csv', sep=',', header=True, index=False)"
   ]
  },
  {
   "cell_type": "markdown",
   "metadata": {},
   "source": [
    "Merge Gene locations and phosphosite genomic locations into one dataframe."
   ]
  },
  {
   "cell_type": "code",
   "execution_count": 29,
   "metadata": {},
   "outputs": [],
   "source": [
    "Genomic_Location_of_Sub_PS=pd.merge(Sub_Gene_Location, PS_genomic_locations, on='SUB_ACC_ID') #Merge dataframes based on substrate accession number."
   ]
  },
  {
   "cell_type": "markdown",
   "metadata": {},
   "source": [
    "Merge genomic locations of phosphosites with original dataframe."
   ]
  },
  {
   "cell_type": "code",
   "execution_count": 30,
   "metadata": {},
   "outputs": [],
   "source": [
    "hk_all_data=pd.read_csv(\"new_clean_human_kinase_substrates.csv\") #Read in original dataframe.\n",
    "hk_sub_ACC_PS=hk_all_data[['SUB_ACC_ID', 'SUB_MOD_RSD']] #From original df subset to only include substrate identifiers required for merge.\n",
    "hk_sub_ACC_PS.columns=['SUB_ACC_ID', 'PS'] #change SUB_MOD_RES NAME TO PS.\n",
    "\n",
    "\n",
    "Genomic_Location_of_Sub_PS_merged=pd.merge(Genomic_Location_of_Sub_PS, hk_sub_ACC_PS, on=['SUB_ACC_ID', 'PS']) #Merge dataframes based on substrate accession number and phosphosite."
   ]
  },
  {
   "cell_type": "markdown",
   "metadata": {},
   "source": [
    "Adding Neighbouring amino acid sequences to phosphosite genomic location database."
   ]
  },
  {
   "cell_type": "code",
   "execution_count": 31,
   "metadata": {},
   "outputs": [],
   "source": [
    "#Create smaller df containing only substrate gene accession number, phosphosite position, and neighbouring amino acid sequence.\n",
    "All_hk_sub_df=pd.read_csv(\"new_clean_human_kinase_substrates.csv\")\n",
    "N_aa=All_hk_sub_df[['SUB_ACC_ID', 'SUB_MOD_RSD', 'SITE_+/-7_AA']]\n",
    "\n",
    "#Remove duplicates\n",
    "N_aa= N_aa.drop_duplicates(subset=['SUB_ACC_ID', 'SUB_MOD_RSD'])\n",
    "N_aa.columns=['SUB_ACC_ID', 'PS', 'Neighbouring amino acids +/-7'] #Rename columns\n",
    "GL_and_neighbouring_aa_of_Sub_PS=pd.merge(Genomic_Location_of_Sub_PS_merged, N_aa , how='inner', on=['SUB_ACC_ID', 'PS']) #Merge df with genomic locations of PS with df of neighbouring sequences.\n",
    "\n",
    "#Sort dataframe Chormosome and Karyotype band.\n",
    "GL_and_neighbouring_aa_of_Sub_PS.sort_values(['Chromosome', 'Karyotype band'], ascending=[True, True])\n",
    "\n",
    "GL_and_neighbouring_aa_of_Sub_PS.to_csv('GL_and_neighbouring_aa_of_Sub_PS.csv', sep=',', header=True, index=False) #Return as CSV file."
   ]
  },
  {
   "cell_type": "markdown",
   "metadata": {},
   "source": [
    "UPDATE-Add kinase identifiers required for database creation."
   ]
  },
  {
   "cell_type": "code",
   "execution_count": 18,
   "metadata": {},
   "outputs": [],
   "source": [
    "#Create smaller df containing only substrate gene accession number, phosphosite position, and neighbouring amino acid sequence.\n",
    "All_hk_sub_df=pd.read_csv(\"new_clean_human_kinase_substrates.csv\")\n",
    "GL_and_neighbouring_aa_of_Sub_PS=pd.read_csv(\"GL_and_neighbouring_aa_of_Sub_PS.csv\")\n",
    "AA_and_Kinase=All_hk_sub_df[['SUB_ACC_ID', 'GENE', 'KIN_ACC_ID']]\n",
    "\n",
    "#Remove duplicates\n",
    "AA_and_Kinase= AA_and_Kinase.drop_duplicates(subset=['SUB_ACC_ID'])\n",
    "AA_and_Kinase.columns=['SUB_ACC_ID', 'Kinase gene', 'KIN_ACC_ID'] #Rename columns\n",
    "GL_and_neighbouring_aa_of_Sub_PS_final=pd.merge(GL_and_neighbouring_aa_of_Sub_PS, AA_and_Kinase , how='inner', on=['SUB_ACC_ID']) #Merge df with genomic locations of PS with df of neighbouring sequences and kinase identifiers.\n",
    "\n",
    "#Sort dataframe Chormosome and Karyotype band.\n",
    "GL_and_neighbouring_aa_of_Sub_PS_final.sort_values(['Chromosome', 'Karyotype band'], ascending=[True, True])\n",
    "\n",
    "\n",
    "GL_and_neighbouring_aa_of_Sub_PS_final.to_csv('GL_and_neighbouring_aa_of_Sub_PS_final.csv', sep=',', header=True, index=False) #Return as CSV file."
   ]
  }
 ],
 "metadata": {
  "kernelspec": {
   "display_name": "Python 3",
   "language": "python",
   "name": "python3"
  },
  "language_info": {
   "codemirror_mode": {
    "name": "ipython",
    "version": 3
   },
   "file_extension": ".py",
   "mimetype": "text/x-python",
   "name": "python",
   "nbconvert_exporter": "python",
   "pygments_lexer": "ipython3",
   "version": "3.7.4"
  }
 },
 "nbformat": 4,
 "nbformat_minor": 2
}
