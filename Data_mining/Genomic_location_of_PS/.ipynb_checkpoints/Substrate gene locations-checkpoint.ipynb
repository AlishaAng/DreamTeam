{
 "cells": [
  {
   "cell_type": "code",
   "execution_count": null,
   "metadata": {},
   "outputs": [],
   "source": [
    "!pip install requests\n",
    "!pip install pandas"
   ]
  },
  {
   "cell_type": "code",
   "execution_count": null,
   "metadata": {},
   "outputs": [],
   "source": []
  },
  {
   "cell_type": "code",
   "execution_count": 1,
   "metadata": {},
   "outputs": [],
   "source": [
    "import pandas as pd\n",
    "import numpy as np\n",
    "import re\n",
    "import requests"
   ]
  },
  {
   "cell_type": "code",
   "execution_count": 49,
   "metadata": {},
   "outputs": [],
   "source": [
    "####Read data frame with all kinase and Substrate info.####\n",
    "#Read file with all kinase and substrate data.\n",
    "hk_sub_df = pd.read_csv(\"new_clean_human_kinase_substrates.csv\")\n",
    "#Remove gene name duplicates-this is due to multiple PS being on some substrates-all this data will be extracted later anyway.\n",
    "hk_sub_df=hk_sub_df.drop_duplicates(subset='SUB_GENE', keep='first', inplace=False)\n",
    "\n",
    "####Subset the info from above df into dfs containing only required info####\n",
    "#Create a new csv file containing only gene names of the substrates- to input into ensemble.\n",
    "hk_sub_Acc=hk_sub_df['SUB_ACC_ID']\n",
    "hk_sub_Acc.to_csv('hk_sub_Acc.csv', sep=',', header=False, index=False)\n",
    "                          \n"
   ]
  },
  {
   "cell_type": "code",
   "execution_count": 50,
   "metadata": {},
   "outputs": [
    {
     "name": "stdout",
     "output_type": "stream",
     "text": [
      "  SUB_GENE SUB_ACC_ID Chromosome Karyotype band  Strand\n",
      "0    PHGDH     O43175          1            p12       1\n",
      "1    CASQ2     O14958          1          p13.1      -1\n",
      "2   ATP1A1     P05023          1          p13.1       1\n",
      "3   CAPZA1     P52907          1          p13.2       1\n",
      "4    SIKE1     Q9BRV8          1          p13.2      -1\n"
     ]
    }
   ],
   "source": [
    "#Create a dataframe containing gene names and gene accession IDs only- genome location info will be added to this.\n",
    "hk_sub_GeneNames_Acc=hk_sub_df[['SUB_GENE', 'SUB_ACC_ID']]\n",
    "\n",
    "\n",
    "####Import ensembl info###\n",
    "#Read in file with genes (extracted from biomart using above file), and genomic locations.\n",
    "Gene_Locations_of_Sub_df = pd.read_csv(\"Gene_Locations_of_Sub_Biomart.csv\")\n",
    "Gene_Locations_of_Sub_df.columns=['SUB_GENE', 'Chromosome', 'Karyotype band', 'Strand'] #Change column names.\n",
    "\n",
    "Sub_GeneLocation_df=pd.merge(hk_sub_GeneNames_Acc, Gene_Locations_of_Sub_df, on='SUB_GENE') #Merge data frames to have substrate: gene, accession of gene, genomic location.\n",
    "#print(Sub_GeneLocation_df.head())\n",
    "\n",
    "\n",
    "Sub_GeneLocation_df=Sub_GeneLocation_df.sort_values([\"Chromosome\", 'Karyotype band'] , axis = 0, ascending = [True, True]) #Sort df by Ch and Kband.\n",
    "Sub_GeneLocation_df=Sub_GeneLocation_df.reset_index(drop=True) #Reset index\n",
    "print(Sub_GeneLocation_df.head())\n",
    "Sub_GeneLocation_df.to_csv('Sub_GeneLocation_df.csv', sep=',', header=True, index=False)\n"
   ]
  },
  {
   "cell_type": "code",
   "execution_count": null,
   "metadata": {},
   "outputs": [],
   "source": []
  }
 ],
 "metadata": {
  "kernelspec": {
   "display_name": "Python 3",
   "language": "python",
   "name": "python3"
  },
  "language_info": {
   "codemirror_mode": {
    "name": "ipython",
    "version": 3
   },
   "file_extension": ".py",
   "mimetype": "text/x-python",
   "name": "python",
   "nbconvert_exporter": "python",
   "pygments_lexer": "ipython3",
   "version": "3.7.4"
  }
 },
 "nbformat": 4,
 "nbformat_minor": 2
}
