{
 "cells": [
  {
   "cell_type": "code",
   "execution_count": null,
   "metadata": {},
   "outputs": [],
   "source": [
    "import pandas as pd\n",
    "import re\n",
    "from bioservices import UniProt\n",
    "u = UniProt(cache=True)\n",
    "import re\n"
   ]
  },
  {
   "cell_type": "code",
   "execution_count": null,
   "metadata": {},
   "outputs": [],
   "source": [
    "df = pd.read_csv(\"Kinase_Substrate_Dataset.csv\", sep= \"\\\\t\") # import a dataframe\n",
    "df['\"GENE']=df['\"GENE'].str.replace('\"', '')# tidy gene col\n",
    "df['CST_CAT#\"']=df['CST_CAT#\"'].str.replace('\"', '') # tidy gene col"
   ]
  },
  {
   "cell_type": "code",
   "execution_count": null,
   "metadata": {},
   "outputs": [],
   "source": [
    "df['\"GENE']=df['\"GENE'].str.replace('\"', '')# tidy gene col\n",
    "df['CST_CAT#\"']=df['CST_CAT#\"'].str.replace('\"', '') # tidy gene col"
   ]
  },
  {
   "cell_type": "code",
   "execution_count": null,
   "metadata": {},
   "outputs": [],
   "source": [
    "df.columns=df.columns.str.strip()\n",
    "df.drop( df[ df['SUB_ORGANISM'] != 'human' ].index , inplace=True) # remove non human entries"
   ]
  },
  {
   "cell_type": "code",
   "execution_count": null,
   "metadata": {},
   "outputs": [],
   "source": [
    "df.drop( df[ df['KIN_ORGANISM'] != 'human' ].index , inplace=True) # remove non human entries"
   ]
  },
  {
   "cell_type": "code",
   "execution_count": null,
   "metadata": {},
   "outputs": [],
   "source": [
    "df.columns = [col.replace('\"', '') for col in df.columns] #  removed the quotation marks in the header"
   ]
  },
  {
   "cell_type": "code",
   "execution_count": null,
   "metadata": {},
   "outputs": [],
   "source": [
    "df.drop(['KIN_ORGANISM', 'SUB_ORGANISM','IN_VIVO_RXN', 'IN_VITRO_RXN', 'CST_CAT#'], axis=1, inplace=True)\n",
    " # drop these col headings as we do not need them\n"
   ]
  },
  {
   "cell_type": "code",
   "execution_count": null,
   "metadata": {},
   "outputs": [],
   "source": [
    "df['SUB_ACC_ID'] = df['SUB_ACC_ID'].str.replace(r'(-.+)','') # regex to edit entries that had _ in there name "
   ]
  },
  {
   "cell_type": "code",
   "execution_count": null,
   "metadata": {},
   "outputs": [],
   "source": [
    "df['SUB_ACC_ID'] =  [re.sub(r'.+(-.+)','', str(x)) for x in df['SUB_ACC_ID']] # regex to edit entries that had - in there name "
   ]
  },
  {
   "cell_type": "code",
   "execution_count": null,
   "metadata": {},
   "outputs": [],
   "source": [
    "df[\"KINASE\"].value_counts() # HOW MANY KINASES ARE THERE = 374"
   ]
  },
  {
   "cell_type": "code",
   "execution_count": null,
   "metadata": {},
   "outputs": [],
   "source": [
    "KinList = df['SUB_ACC_ID'].tolist() # convert SUB_ACC_ID to iterate over "
   ]
  },
  {
   "cell_type": "code",
   "execution_count": null,
   "metadata": {},
   "outputs": [],
   "source": [
    "def get_meta(uniprot_num):\n",
    "    query = \"id:{}\".format(uniprot_num)\n",
    "    output = u.search(query, columns=\"entry name\")\n",
    "    tmp = re.split('\\t|\\n', output)\n",
    "    output = tmp\n",
    "    return(output)\n",
    "\n",
    "# this function outputs entry name when you input ACC ID - see below"
   ]
  },
  {
   "cell_type": "code",
   "execution_count": null,
   "metadata": {},
   "outputs": [],
   "source": [
    "get_meta(\"Q16555\")"
   ]
  },
  {
   "cell_type": "code",
   "execution_count": null,
   "metadata": {},
   "outputs": [],
   "source": [
    "my_list = []\n",
    "for i, a in enumerate(KinList):\n",
    "    my_list.append(get_meta(a))"
   ]
  },
  {
   "cell_type": "code",
   "execution_count": null,
   "metadata": {},
   "outputs": [],
   "source": [
    "for i, a in enumerate(my_list):\n",
    "    try:\n",
    "        var=a[1]\n",
    "    except:\n",
    "        print(i, a)\n",
    "        \n",
    "        # as you can see three entries do will not return gene names, upon further inspection we removed these. \n",
    "        # one was not a kinase and 2 had refseq not uniprot numbers- i so manually renamed those"
   ]
  },
  {
   "cell_type": "code",
   "execution_count": null,
   "metadata": {},
   "outputs": [],
   "source": [
    "my_list2 = []\n",
    "for i, a in enumerate(my_list):\n",
    "    my_list2.append(a[1]) # put all the _HUMAN into a list "
   ]
  },
  {
   "cell_type": "code",
   "execution_count": null,
   "metadata": {},
   "outputs": [],
   "source": [
    "se = pd.Series(var)\n",
    "df['KIN_ENTRY_NAME'] = se.values # putting that list into a pandas dataframe"
   ]
  },
  {
   "cell_type": "code",
   "execution_count": null,
   "metadata": {},
   "outputs": [],
   "source": [
    "df.to_csv('clean_human_kinase_substrates2.csv', header=True)\n",
    "\n"
   ]
  }
 ],
 "metadata": {
  "kernelspec": {
   "display_name": "Python 3",
   "language": "python",
   "name": "python3"
  },
  "language_info": {
   "codemirror_mode": {
    "name": "ipython",
    "version": 3
   },
   "file_extension": ".py",
   "mimetype": "text/x-python",
   "name": "python",
   "nbconvert_exporter": "python",
   "pygments_lexer": "ipython3",
   "version": "3.7.4"
  }
 },
 "nbformat": 4,
 "nbformat_minor": 2
}
