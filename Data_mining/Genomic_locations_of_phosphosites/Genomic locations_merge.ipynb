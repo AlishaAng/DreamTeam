{
 "cells": [
  {
   "cell_type": "markdown",
   "metadata": {},
   "source": [
    "# Creating a final dataframe of phosphosite genomic locations and all relevent information."
   ]
  },
  {
   "cell_type": "code",
   "execution_count": 1,
   "metadata": {},
   "outputs": [],
   "source": [
    "#Import required packagaes\n",
    "import pandas as pd"
   ]
  },
  {
   "cell_type": "code",
   "execution_count": 5,
   "metadata": {},
   "outputs": [],
   "source": [
    "#Read in files to be merged.\n",
    "kinase_df = pd.read_csv(\"new_clean_human_kinase_substrates.csv\")  #Kinase/substarte dataframe.\n",
    "Biomart_df = pd.read_csv(\"Biomart_sub_gene_locations.csv\")  #Genomic locations of substrate genes from ensembl biomart.\n",
    "PS_gl_df = pd.read_csv(\"PS_genomic_locations.csv\") #Genomic coordinates of individual phosphosites.\n"
   ]
  },
  {
   "cell_type": "code",
   "execution_count": 6,
   "metadata": {},
   "outputs": [],
   "source": [
    "#From kinase_df create new dataframe only with relevant columns.\n",
    "kinase_sub_rsd_df=kinase_df[['KINASE', 'KIN_ACC_ID', 'SUB_ACC_ID', 'SUB_GENE', 'SUB_MOD_RSD', 'SITE_+/-7_AA']]\n"
   ]
  },
  {
   "cell_type": "code",
   "execution_count": 7,
   "metadata": {},
   "outputs": [],
   "source": [
    "#Change Biomart 'gene name' column to 'SUB_GENE'to simplify the joining of dataframes.\n",
    "Biomart_df=Biomart_df.rename(columns={\"Gene name\": \"SUB_GENE\"})\n",
    "\n",
    "#join genomic locations from Biomart with relevant columns from kinase/substrate dataframe.\n",
    "#This can be joined because each substrate gene has a single genomic location, although can have multiple phosphosites and kinases.\n",
    "Biomart_and_kinase=kinase_sub_rsd_df.join(Biomart_df.set_index('SUB_GENE'), on='SUB_GENE')\n"
   ]
  },
  {
   "cell_type": "code",
   "execution_count": 8,
   "metadata": {
    "scrolled": true
   },
   "outputs": [],
   "source": [
    "#Change PS_gl_df 'PS' column to 'SUB_MOD_RSD' to simplify merging of dataframes.\n",
    "PS_gl_df=PS_gl_df.rename(columns={\"PS\": \"SUB_MOD_RSD\"})\n",
    "\n",
    "\n",
    "##Merge phosphosite genomic coordinates with rest of the relevant information.\n",
    "#This has to be merged as the same substrate will have multiple phosphosites which have different coordiantes, so merge by 2 columns ('SUB_ACC_ID' and 'SUB_MOD_RSD'). \n",
    "Phosphosite_genomic_locations=pd.merge(Biomart_and_kinase, PS_gl_df, on=['SUB_ACC_ID', 'SUB_MOD_RSD'])\n",
    "\n",
    "#Create final csv file from resulting dataframe.\n",
    "Phosphosite_genomic_locations.to_csv('Phosphosite_genomic_locations.csv', sep=',', header=True, index=False) "
   ]
  },
  {
   "cell_type": "markdown",
   "metadata": {},
   "source": [
    "# Obtaining genomic coordinates of the substarte genes and producing corresponding url to connect to UCSC genome browser."
   ]
  },
  {
   "cell_type": "code",
   "execution_count": 2,
   "metadata": {},
   "outputs": [],
   "source": [
    "#Read in df with start and end coordinates for whole gene of the substrate.\n",
    "#This data obtained from ensembl biomart using file withsubstrate accession numbers as before.\n",
    "sub_gene_start_end=pd.read_csv(\"sub_gene_start_end.csv\")"
   ]
  },
  {
   "cell_type": "code",
   "execution_count": 3,
   "metadata": {},
   "outputs": [],
   "source": [
    "#make corresponding url for each substrate gene to be used in genome browser for website.\n",
    "\n",
    "empty_url = \"https://genome.ucsc.edu/cgi-bin/hgTracks?db=hg38&lastVirtModeType=default&lastVirtModeExtraState=&virtModeType=default&virtMode=0&nonVirtPosition=&position=chr{}%3A{}%2D{}&hgsid=796473843_RdusyHlWn1O3a5PrtgCz1VDHBQGv\"\n",
    "\n",
    "ch=sub_gene_start_end['Chromosome/scaffold name']\n",
    "start =sub_gene_start_end['Gene start (bp)']\n",
    "end=sub_gene_start_end['Gene end (bp)']\n",
    "\n",
    "   \n",
    "url_list=[]\n",
    "for c,s,e in zip(ch, start, end):\n",
    "    full_url=empty_url.format(c,s,e)\n",
    "    url_list.append(full_url)\n"
   ]
  },
  {
   "cell_type": "code",
   "execution_count": 4,
   "metadata": {},
   "outputs": [],
   "source": [
    "#Put substrate gene names in a list format.\n",
    "sub_gene_list = sub_gene_start_end['Gene name'].tolist()\n",
    "\n",
    "#Create and fill a dataframe of substrate gene names and urls to go in.\n",
    "sub_gene_urls_df=pd.DataFrame()\n",
    "sub_gene_urls_df=sub_gene_urls_df.append(pd.DataFrame(list(zip(sub_gene_list, url_list)), columns =['Gene name', 'URL']))\n",
    "\n",
    "#Output file with urls to csv.\n",
    "sub_gene_urls_df.to_csv('sub_gene_urls.csv', sep=',', header=True, index=False)"
   ]
  },
  {
   "cell_type": "code",
   "execution_count": 23,
   "metadata": {},
   "outputs": [],
   "source": [
    "#Rename 'Gene name' to 'SUB_GENE' to allowfor a simple join command.\n",
    "sub_gene_urls_df=sub_gene_urls_df.rename(columns={\"Gene name\": \"SUB_GENE\"})\n",
    "\n",
    "#Join a column containing urls based on the substrate gene name ('SUB_GENE').\n",
    "Phosphosite_genomic_locations_and_urls=Phosphosite_genomic_locations.join(sub_gene_urls_df.set_index('SUB_GENE'), on='SUB_GENE')\n",
    "\n",
    "#output to csv\n",
    "Phosphosite_genomic_locations_and_urls.to_csv('Final_Phosphosite_genomic_locations.csv', sep=',', header=True, index=False)"
   ]
  }
 ],
 "metadata": {
  "kernelspec": {
   "display_name": "Python 3",
   "language": "python",
   "name": "python3"
  },
  "language_info": {
   "codemirror_mode": {
    "name": "ipython",
    "version": 3
   },
   "file_extension": ".py",
   "mimetype": "text/x-python",
   "name": "python",
   "nbconvert_exporter": "python",
   "pygments_lexer": "ipython3",
   "version": "3.7.4"
  }
 },
 "nbformat": 4,
 "nbformat_minor": 2
}
