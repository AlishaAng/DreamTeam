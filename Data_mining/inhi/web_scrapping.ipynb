{
 "cells": [
  {
   "cell_type": "code",
   "execution_count": 17,
   "metadata": {},
   "outputs": [],
   "source": [
    "import request\n",
    "from urllib import urlopen as uReq\n",
    "\n",
    "from bs4 import BeautifulSoup as soup"
   ]
  },
  {
   "cell_type": "code",
   "execution_count": 18,
   "metadata": {},
   "outputs": [],
   "source": [
    "page = 'http://www.icoa.fr/pkidb/'\n"
   ]
  },
  {
   "cell_type": "code",
   "execution_count": 19,
   "metadata": {},
   "outputs": [
    {
     "data": {
      "text/plain": [
       "<bound method addinfourl.close of <addinfourl at 137961608L whose fp = <socket._fileobject object at 0x00000000082D3390>>>"
      ]
     },
     "execution_count": 19,
     "metadata": {},
     "output_type": "execute_result"
    }
   ],
   "source": [
    "uClient = uReq(page)\n",
    "page_html = uClient.read()\n",
    "uClient.close"
   ]
  },
  {
   "cell_type": "code",
   "execution_count": 20,
   "metadata": {},
   "outputs": [],
   "source": [
    "page_soup = soup(page_html, 'html.parser')"
   ]
  },
  {
   "cell_type": "code",
   "execution_count": 21,
   "metadata": {},
   "outputs": [],
   "source": [
    "table = page_soup.table.tbody"
   ]
  },
  {
   "cell_type": "code",
   "execution_count": 22,
   "metadata": {},
   "outputs": [],
   "source": [
    "all_tr = table.findAll(\"tr\")"
   ]
  },
  {
   "cell_type": "code",
   "execution_count": 33,
   "metadata": {},
   "outputs": [
    {
     "data": {
      "text/plain": [
       "<tr>\\n<td><b>Mavelertinib</b><br/><img heigth=\"150\" onmouseout=\"this.width=150; this.heigth=150;\" onmouseover=\"this.width=450; this.heigth=450;\" src=\"static/img/mol/Mavelertinib.svg\" width=\"150\"/></td>\\n<td>nan</td>\\n<td>0</td>\\n<td>Pfizer</td>\\n<td><a href=\"http://www.chemspider.com/Chemical-Structure.49070873.html\">ChemSpider</a><br/><a href=\"https://www.ebi.ac.uk/chembldb/compound/inspect/CHEMBL3989970\">ChEMBL</a><br/><a href=\"http://pubchem.ncbi.nlm.nih.gov/compound/91668194\">PubChem</a><br/><a href=\"http://www.guidetopharmacology.org/GRAC/LigandDisplayForward?ligandId=9765\">Guide to Pharmacology</a><br/><a href=\"http://zinc15.docking.org/substances/ZINC000231225813\">ZINC</a><br/><a href=\"http://fdasis.nlm.nih.gov/srs/ProxyServlet?mergeData=true&amp;objectHandle=DBMaint&amp;APPLICATION_NAME=fdasrs&amp;actionHandle=default&amp;nextPage=jsp/srs/ResultScreen.jsp&amp;TXTSUPERLISTID=YXX2180047\">FDA SRS</a><br/></td>\\n<td>NaN</td>\\n<td>NaN</td>\\n<td>nan</td>\\n<td>0</td>\\n<td>415.2</td>\\n<td>0.7</td>\\n<td>115</td>\\n<td>10</td>\\n<td>2</td>\\n<td>6</td>\\n<td>nan</td>\\n<td>nan</td>\\n<td></td>\\n<td style=\"word-wrap: break-word; max-width: 250px;\"><b>Smiles</b>=Cn1cc(c(n1)OC)Nc2c3c(nc(n2)N4C[C@H]([C@@H](C4)F)NC(=O)C=C)n(cn3)C<br/><b>InChiKey</b>=JYIUNVOCEFIUIU-GHMZBOCLSA-N</td>\\n<td>nan</td>\\n<td>nan</td>\\n<td>Single Stereoisomer</td>\\n<td>PF-06747775 <br/> Mavelertinib</td>\\n<td></td>\\n<td></td>\\n</tr>"
      ]
     },
     "execution_count": 33,
     "metadata": {},
     "output_type": "execute_result"
    }
   ],
   "source": [
    "single = all_tr[5]\n",
    "single"
   ]
  },
  {
   "cell_type": "code",
   "execution_count": 34,
   "metadata": {},
   "outputs": [
    {
     "data": {
      "text/plain": [
       "u'Mavelertinib'"
      ]
     },
     "execution_count": 34,
     "metadata": {},
     "output_type": "execute_result"
    }
   ],
   "source": [
    "Inhibitor= single.td.b\n",
    "Inhibitor.text"
   ]
  },
  {
   "cell_type": "code",
   "execution_count": 35,
   "metadata": {},
   "outputs": [
    {
     "name": "stdout",
     "output_type": "stream",
     "text": [
      "Cn1cc(c(n1)OC)Nc2c3c(nc(n2)N4C[C@H]([C@@H](C4)F)NC(=O)C=C)n(cn3)C\n"
     ]
    }
   ],
   "source": [
    "\n",
    "smiles = single.find(\"td\", {\"style\":\"word-wrap: break-word; max-width: 250px;\"})\n",
    "smiles1 = smiles.text\n",
    "smiles1\n",
    "\n",
    "\n",
    "start = 'Smiles=;'\n",
    "end = 'InChiKey'\n",
    "s = smiles1\n",
    "print s[s.find(start)+len(start):s.rfind(end)]"
   ]
  },
  {
   "cell_type": "code",
   "execution_count": 39,
   "metadata": {},
   "outputs": [
    {
     "data": {
      "text/plain": [
       "u'JYIUNVOCEFIUIU-GHMZBOCLSA-N'"
      ]
     },
     "execution_count": 39,
     "metadata": {},
     "output_type": "execute_result"
    }
   ],
   "source": [
    "smiles = single.find(\"td\", {\"style\":\"word-wrap: break-word; max-width: 250px;\"})\n",
    "s = smiles.text\n",
    "s.split('InChiKey=')[-1]"
   ]
  },
  {
   "cell_type": "code",
   "execution_count": 11,
   "metadata": {},
   "outputs": [
    {
     "data": {
      "text/plain": [
       "'MET,TEK,KDR,NTRK1'"
      ]
     },
     "execution_count": 11,
     "metadata": {},
     "output_type": "execute_result"
    }
   ],
   "source": [
    "TD = single.findAll(\"td\")\n",
    "Target1 = str(TD[16]).replace(\"<br/>\", \",\")\n",
    "Target2 = Target1.strip(\"<td></\")\n",
    "\n",
    "\n",
    "Target2"
   ]
  },
  {
   "cell_type": "code",
   "execution_count": 12,
   "metadata": {},
   "outputs": [
    {
     "data": {
      "text/plain": [
       "'DCC-2701,Altiratinib,DP-5164'"
      ]
     },
     "execution_count": 12,
     "metadata": {},
     "output_type": "execute_result"
    }
   ],
   "source": [
    "synonyms= str(TD[-3].text).replace(\"  \", \",\")\n",
    "synonyms\n"
   ]
  },
  {
   "cell_type": "code",
   "execution_count": 13,
   "metadata": {},
   "outputs": [
    {
     "data": {
      "text/plain": [
       "'http://www.icoa.fr/pkidb/static/img/mol/Altiratinib.svg'"
      ]
     },
     "execution_count": 13,
     "metadata": {},
     "output_type": "execute_result"
    }
   ],
   "source": [
    "image = single.td\n",
    "image1 = str(single.img[\"src\"])\n",
    "URL= \"http://www.icoa.fr/pkidb/\"\n",
    "\n",
    "IMAGE = URL + image1\n",
    "\n",
    "IMAGE"
   ]
  },
  {
   "cell_type": "code",
   "execution_count": 64,
   "metadata": {},
   "outputs": [
    {
     "name": "stdout",
     "output_type": "stream",
     "text": [
      "http://www.chemspider.com/Chemical-Structure.28294976.html\n",
      "https://www.ebi.ac.uk/chembldb/compound/inspect/CHEMBL3545414\n",
      "http://pubchem.ncbi.nlm.nih.gov/compound/45139106\n"
     ]
    },
    {
     "data": {
      "text/plain": [
       "'CHEMBL3545414'"
      ]
     },
     "execution_count": 64,
     "metadata": {},
     "output_type": "execute_result"
    }
   ],
   "source": [
    "ChemblID0 = single.findAll(\"td\")[4].findAll(\"a\")[0]\n",
    "ChemblID1 = single.findAll(\"td\")[4].findAll(\"a\")[1]\n",
    "ChemblID2 = single.findAll(\"td\")[4].findAll(\"a\")[2]\n",
    "\n",
    "ChemblID_link0 = str(ChemblID0.get(\"href\"))\n",
    "ChemblID_link1 = str(ChemblID1.get(\"href\"))\n",
    "ChemblID_link2 = str(ChemblID2.get(\"href\"))\n",
    "\n",
    "print ChemblID_link0\n",
    "print ChemblID_link1\n",
    "print ChemblID_link2\n",
    "\n",
    "ChemblID_link1.split('inspect/')[-1]"
   ]
  },
  {
   "cell_type": "code",
   "execution_count": 65,
   "metadata": {},
   "outputs": [
    {
     "data": {
      "text/plain": [
       "u'CHEMBL3545414'"
      ]
     },
     "execution_count": 65,
     "metadata": {},
     "output_type": "execute_result"
    }
   ],
   "source": [
    "def chemblID(each):\n",
    "    ChemblID0 = each.findAll(\"td\")[4].findAll(\"a\")[0]\n",
    "    ChemblID1 = each.findAll(\"td\")[4].findAll(\"a\")[1]\n",
    "    ChemblID2 = each.findAll(\"td\")[4].findAll(\"a\")[2]\n",
    "    \n",
    "    ChemblID_link0 = ChemblID0.get(\"href\")\n",
    "    ChemblID_link1 = ChemblID1.get(\"href\")\n",
    "    ChemblID_link2 = ChemblID2.get(\"href\")\n",
    "    \n",
    "    must_have = \"CHEMBL\"\n",
    "\n",
    "    if must_have in ChemblID_link0:\n",
    "        ID = ChemblID_link0.split('inspect/')[-1]\n",
    "        return ID\n",
    "    if must_have in ChemblID_link1:\n",
    "        ID = ChemblID_link1.split('inspect/')[-1]\n",
    "        return ID\n",
    "    if must_have in ChemblID_link2:\n",
    "        ID = ChemblID_link2.split('inspect/')[-1]\n",
    "        return ID    \n",
    "\n",
    "chemblID(single)"
   ]
  },
  {
   "cell_type": "code",
   "execution_count": 60,
   "metadata": {},
   "outputs": [
    {
     "data": {
      "text/plain": [
       "'3545414'"
      ]
     },
     "execution_count": 60,
     "metadata": {},
     "output_type": "execute_result"
    }
   ],
   "source": [
    "l = chemblID(single)\n",
    "l"
   ]
  },
  {
   "cell_type": "code",
   "execution_count": null,
   "metadata": {},
   "outputs": [],
   "source": []
  }
 ],
 "metadata": {
  "kernelspec": {
   "display_name": "Python 2",
   "language": "python",
   "name": "python2"
  },
  "language_info": {
   "codemirror_mode": {
    "name": "ipython",
    "version": 2
   },
   "file_extension": ".py",
   "mimetype": "text/x-python",
   "name": "python",
   "nbconvert_exporter": "python",
   "pygments_lexer": "ipython2",
   "version": "2.7.16"
  }
 },
 "nbformat": 4,
 "nbformat_minor": 2
}
