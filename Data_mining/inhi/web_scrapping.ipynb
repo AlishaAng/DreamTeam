{
 "cells": [
  {
   "cell_type": "code",
   "execution_count": 2,
   "metadata": {},
   "outputs": [],
   "source": [
    "import request\n",
    "from urllib import urlopen as uReq\n",
    "\n",
    "from bs4 import BeautifulSoup as soup"
   ]
  },
  {
   "cell_type": "code",
   "execution_count": 3,
   "metadata": {},
   "outputs": [],
   "source": [
    "page = 'http://www.icoa.fr/pkidb/'\n"
   ]
  },
  {
   "cell_type": "code",
   "execution_count": 4,
   "metadata": {},
   "outputs": [
    {
     "data": {
      "text/plain": [
       "<bound method addinfourl.close of <addinfourl at 111537032L whose fp = <socket._fileobject object at 0x00000000069A6CF0>>>"
      ]
     },
     "execution_count": 4,
     "metadata": {},
     "output_type": "execute_result"
    }
   ],
   "source": [
    "uClient = uReq(page)\n",
    "page_html = uClient.read()\n",
    "uClient.close"
   ]
  },
  {
   "cell_type": "code",
   "execution_count": 5,
   "metadata": {},
   "outputs": [],
   "source": [
    "page_soup = soup(page_html, 'html.parser')"
   ]
  },
  {
   "cell_type": "code",
   "execution_count": 6,
   "metadata": {},
   "outputs": [],
   "source": [
    "table = page_soup.table.tbody"
   ]
  },
  {
   "cell_type": "code",
   "execution_count": 7,
   "metadata": {},
   "outputs": [],
   "source": [
    "all_tr = table.findAll(\"tr\")"
   ]
  },
  {
   "cell_type": "code",
   "execution_count": 57,
   "metadata": {},
   "outputs": [
    {
     "data": {
      "text/plain": [
       "<tr>\\n<td><b>Rivoceranib</b><br/><img heigth=\"150\" onmouseout=\"this.width=150; this.heigth=150;\" onmouseover=\"this.width=450; this.heigth=450;\" src=\"static/img/mol/Rivoceranib.svg\" width=\"150\"/></td>\\n<td>nan</td>\\n<td>1</td>\\n<td>Advenchen Laboratories</td>\\n<td><a href=\"http://www.chemspider.com/Chemical-Structure.28294976.html\">ChemSpider</a><br/><a href=\"https://www.ebi.ac.uk/chembldb/compound/inspect/CHEMBL3545414\">ChEMBL</a><br/><a href=\"http://pubchem.ncbi.nlm.nih.gov/compound/45139106\">PubChem</a><br/><a href=\"http://fdasis.nlm.nih.gov/srs/ProxyServlet?mergeData=true&amp;objectHandle=DBMaint&amp;APPLICATION_NAME=fdasrs&amp;actionHandle=default&amp;nextPage=jsp/srs/ResultScreen.jsp&amp;TXTSUPERLISTID=TK02X14ASJ\">FDA SRS</a><br/><a href=\"http://www.bindingdb.org/bind/chemsearch/marvin/MolStructure.jsp?monomerid=50152828\">BindingDB</a><br/></td>\\n<td>NaN</td>\\n<td>NaN</td>\\n<td>nan</td>\\n<td>0</td>\\n<td>493.2</td>\\n<td>4.2</td>\\n<td>145.1</td>\\n<td>7</td>\\n<td>3</td>\\n<td>6</td>\\n<td>Rivoceranib Mesylate is a novel selective inhibitor of vascular endothelial growth factor receptor 2 (vegfr2)</td>\\n<td>nan</td>\\n<td></td>\\n<td style=\"word-wrap: break-word; max-width: 250px;\"><b>Smiles</b>=CS(=O)(=O)O.c1cc(c(nc1)NCc2ccncc2)C(=O)Nc3ccc(cc3)C4(CCCC4)C#N<br/><b>InChiKey</b>=FYJROXRIVQPKRY-UHFFFAOYSA-N</td>\\n<td>nan</td>\\n<td>nan</td>\\n<td>nan</td>\\n<td>YN-968D1</td>\\n<td></td>\\n<td></td>\\n</tr>"
      ]
     },
     "execution_count": 57,
     "metadata": {},
     "output_type": "execute_result"
    }
   ],
   "source": [
    "single = all_tr[7]\n",
    "single"
   ]
  },
  {
   "cell_type": "code",
   "execution_count": 9,
   "metadata": {},
   "outputs": [
    {
     "data": {
      "text/plain": [
       "u'Altiratinib'"
      ]
     },
     "execution_count": 9,
     "metadata": {},
     "output_type": "execute_result"
    }
   ],
   "source": [
    "Inhibitor= single.td.b\n",
    "Inhibitor.text"
   ]
  },
  {
   "cell_type": "code",
   "execution_count": 10,
   "metadata": {},
   "outputs": [
    {
     "data": {
      "text/plain": [
       "u'Smiles=c1cc(ccc1NC(=O)C2(CC2)C(=O)Nc3cc(c(cc3F)Oc4ccnc(c4)NC(=O)C5CC5)F)FInChiKey=GNNDEPIMDAZHRQ-UHFFFAOYSA-N'"
      ]
     },
     "execution_count": 10,
     "metadata": {},
     "output_type": "execute_result"
    }
   ],
   "source": [
    "\n",
    "smiles = single.find(\"td\", {\"style\":\"word-wrap: break-word; max-width: 250px;\"})\n",
    "smiles1 = smiles.text\n",
    "smiles1"
   ]
  },
  {
   "cell_type": "code",
   "execution_count": 11,
   "metadata": {},
   "outputs": [
    {
     "data": {
      "text/plain": [
       "'MET,TEK,KDR,NTRK1'"
      ]
     },
     "execution_count": 11,
     "metadata": {},
     "output_type": "execute_result"
    }
   ],
   "source": [
    "TD = single.findAll(\"td\")\n",
    "Target1 = str(TD[16]).replace(\"<br/>\", \",\")\n",
    "Target2 = Target1.strip(\"<td></\")\n",
    "\n",
    "\n",
    "Target2"
   ]
  },
  {
   "cell_type": "code",
   "execution_count": 12,
   "metadata": {},
   "outputs": [
    {
     "data": {
      "text/plain": [
       "'DCC-2701,Altiratinib,DP-5164'"
      ]
     },
     "execution_count": 12,
     "metadata": {},
     "output_type": "execute_result"
    }
   ],
   "source": [
    "synonyms= str(TD[-3].text).replace(\"  \", \",\")\n",
    "synonyms\n"
   ]
  },
  {
   "cell_type": "code",
   "execution_count": 13,
   "metadata": {},
   "outputs": [
    {
     "data": {
      "text/plain": [
       "'http://www.icoa.fr/pkidb/static/img/mol/Altiratinib.svg'"
      ]
     },
     "execution_count": 13,
     "metadata": {},
     "output_type": "execute_result"
    }
   ],
   "source": [
    "image = single.td\n",
    "image1 = str(single.img[\"src\"])\n",
    "URL= \"http://www.icoa.fr/pkidb/\"\n",
    "\n",
    "IMAGE = URL + image1\n",
    "\n",
    "IMAGE"
   ]
  },
  {
   "cell_type": "code",
   "execution_count": 64,
   "metadata": {},
   "outputs": [
    {
     "name": "stdout",
     "output_type": "stream",
     "text": [
      "http://www.chemspider.com/Chemical-Structure.28294976.html\n",
      "https://www.ebi.ac.uk/chembldb/compound/inspect/CHEMBL3545414\n",
      "http://pubchem.ncbi.nlm.nih.gov/compound/45139106\n"
     ]
    },
    {
     "data": {
      "text/plain": [
       "'CHEMBL3545414'"
      ]
     },
     "execution_count": 64,
     "metadata": {},
     "output_type": "execute_result"
    }
   ],
   "source": [
    "ChemblID0 = single.findAll(\"td\")[4].findAll(\"a\")[0]\n",
    "ChemblID1 = single.findAll(\"td\")[4].findAll(\"a\")[1]\n",
    "ChemblID2 = single.findAll(\"td\")[4].findAll(\"a\")[2]\n",
    "\n",
    "ChemblID_link0 = str(ChemblID0.get(\"href\"))\n",
    "ChemblID_link1 = str(ChemblID1.get(\"href\"))\n",
    "ChemblID_link2 = str(ChemblID2.get(\"href\"))\n",
    "\n",
    "print ChemblID_link0\n",
    "print ChemblID_link1\n",
    "print ChemblID_link2\n",
    "\n",
    "ChemblID_link1.split('inspect/')[-1]"
   ]
  },
  {
   "cell_type": "code",
   "execution_count": 65,
   "metadata": {},
   "outputs": [
    {
     "data": {
      "text/plain": [
       "u'CHEMBL3545414'"
      ]
     },
     "execution_count": 65,
     "metadata": {},
     "output_type": "execute_result"
    }
   ],
   "source": [
    "def chemblID(each):\n",
    "    ChemblID0 = each.findAll(\"td\")[4].findAll(\"a\")[0]\n",
    "    ChemblID1 = each.findAll(\"td\")[4].findAll(\"a\")[1]\n",
    "    ChemblID2 = each.findAll(\"td\")[4].findAll(\"a\")[2]\n",
    "    \n",
    "    ChemblID_link0 = ChemblID0.get(\"href\")\n",
    "    ChemblID_link1 = ChemblID1.get(\"href\")\n",
    "    ChemblID_link2 = ChemblID2.get(\"href\")\n",
    "    \n",
    "    must_have = \"CHEMBL\"\n",
    "\n",
    "    if must_have in ChemblID_link0:\n",
    "        ID = ChemblID_link0.split('inspect/')[-1]\n",
    "        return ID\n",
    "    if must_have in ChemblID_link1:\n",
    "        ID = ChemblID_link1.split('inspect/')[-1]\n",
    "        return ID\n",
    "    if must_have in ChemblID_link2:\n",
    "        ID = ChemblID_link2.split('inspect/')[-1]\n",
    "        return ID    \n",
    "\n",
    "chemblID(single)"
   ]
  },
  {
   "cell_type": "code",
   "execution_count": 60,
   "metadata": {},
   "outputs": [
    {
     "data": {
      "text/plain": [
       "'3545414'"
      ]
     },
     "execution_count": 60,
     "metadata": {},
     "output_type": "execute_result"
    }
   ],
   "source": [
    "l = chemblID(single)\n",
    "l"
   ]
  },
  {
   "cell_type": "code",
   "execution_count": null,
   "metadata": {},
   "outputs": [],
   "source": []
  }
 ],
 "metadata": {
  "kernelspec": {
   "display_name": "Python 2",
   "language": "python",
   "name": "python2"
  },
  "language_info": {
   "codemirror_mode": {
    "name": "ipython",
    "version": 2
   },
   "file_extension": ".py",
   "mimetype": "text/x-python",
   "name": "python",
   "nbconvert_exporter": "python",
   "pygments_lexer": "ipython2",
   "version": "2.7.16"
  }
 },
 "nbformat": 4,
 "nbformat_minor": 2
}
