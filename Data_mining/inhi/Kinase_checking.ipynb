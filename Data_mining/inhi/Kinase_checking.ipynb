{
 "cells": [
  {
   "cell_type": "code",
   "execution_count": 2,
   "metadata": {},
   "outputs": [],
   "source": [
    "import pandas as pd"
   ]
  },
  {
   "cell_type": "code",
   "execution_count": 3,
   "metadata": {},
   "outputs": [
    {
     "data": {
      "text/html": [
       "<div>\n",
       "<style scoped>\n",
       "    .dataframe tbody tr th:only-of-type {\n",
       "        vertical-align: middle;\n",
       "    }\n",
       "\n",
       "    .dataframe tbody tr th {\n",
       "        vertical-align: top;\n",
       "    }\n",
       "\n",
       "    .dataframe thead th {\n",
       "        text-align: right;\n",
       "    }\n",
       "</style>\n",
       "<table border=\"1\" class=\"dataframe\">\n",
       "  <thead>\n",
       "    <tr style=\"text-align: right;\">\n",
       "      <th></th>\n",
       "      <th>Uniprot_number</th>\n",
       "      <th>Gene_name</th>\n",
       "      <th>Protein_name</th>\n",
       "      <th>Gene_aliases</th>\n",
       "    </tr>\n",
       "  </thead>\n",
       "  <tbody>\n",
       "    <tr>\n",
       "      <th>0</th>\n",
       "      <td>P31749</td>\n",
       "      <td>AKT1</td>\n",
       "      <td>RAC-alpha serine/threonine-protein kinase</td>\n",
       "      <td>['AKT1', 'PKB', 'RAC']</td>\n",
       "    </tr>\n",
       "    <tr>\n",
       "      <th>1</th>\n",
       "      <td>P31751</td>\n",
       "      <td>AKT2</td>\n",
       "      <td>RAC-beta serine/threonine-protein kinase</td>\n",
       "      <td>['AKT2']</td>\n",
       "    </tr>\n",
       "    <tr>\n",
       "      <th>2</th>\n",
       "      <td>Q9Y243</td>\n",
       "      <td>AKT3</td>\n",
       "      <td>RAC-gamma serine/threonine-protein kinase</td>\n",
       "      <td>['AKT3', 'PKBG']</td>\n",
       "    </tr>\n",
       "    <tr>\n",
       "      <th>3</th>\n",
       "      <td>Q5VT25</td>\n",
       "      <td>CDC42BPA</td>\n",
       "      <td>Serine/threonine-protein kinase MRCK alpha</td>\n",
       "      <td>['CDC42BPA', 'KIAA0451']</td>\n",
       "    </tr>\n",
       "    <tr>\n",
       "      <th>4</th>\n",
       "      <td>Q9Y5S2</td>\n",
       "      <td>CDC42BPB</td>\n",
       "      <td>Serine/threonine-protein kinase MRCK beta</td>\n",
       "      <td>['CDC42BPB', 'KIAA1124']</td>\n",
       "    </tr>\n",
       "  </tbody>\n",
       "</table>\n",
       "</div>"
      ],
      "text/plain": [
       "  Uniprot_number Gene_name                                Protein_name  \\\n",
       "0         P31749      AKT1   RAC-alpha serine/threonine-protein kinase   \n",
       "1         P31751      AKT2    RAC-beta serine/threonine-protein kinase   \n",
       "2         Q9Y243      AKT3   RAC-gamma serine/threonine-protein kinase   \n",
       "3         Q5VT25  CDC42BPA  Serine/threonine-protein kinase MRCK alpha   \n",
       "4         Q9Y5S2  CDC42BPB   Serine/threonine-protein kinase MRCK beta   \n",
       "\n",
       "               Gene_aliases  \n",
       "0    ['AKT1', 'PKB', 'RAC']  \n",
       "1                  ['AKT2']  \n",
       "2          ['AKT3', 'PKBG']  \n",
       "3  ['CDC42BPA', 'KIAA0451']  \n",
       "4  ['CDC42BPB', 'KIAA1124']  "
      ]
     },
     "execution_count": 3,
     "metadata": {},
     "output_type": "execute_result"
    }
   ],
   "source": [
    "#opening file with inhibitor information\n",
    "Kinase_names = pd.read_csv('gene_names.csv')\n",
    "Kinase_names.head()"
   ]
  },
  {
   "cell_type": "code",
   "execution_count": 30,
   "metadata": {},
   "outputs": [
    {
     "data": {
      "text/html": [
       "<div>\n",
       "<style scoped>\n",
       "    .dataframe tbody tr th:only-of-type {\n",
       "        vertical-align: middle;\n",
       "    }\n",
       "\n",
       "    .dataframe tbody tr th {\n",
       "        vertical-align: top;\n",
       "    }\n",
       "\n",
       "    .dataframe thead th {\n",
       "        text-align: right;\n",
       "    }\n",
       "</style>\n",
       "<table border=\"1\" class=\"dataframe\">\n",
       "  <thead>\n",
       "    <tr style=\"text-align: right;\">\n",
       "      <th></th>\n",
       "      <th>Inhibitor</th>\n",
       "      <th>Target</th>\n",
       "      <th>MW</th>\n",
       "      <th>Smiles</th>\n",
       "      <th>Synonyms</th>\n",
       "      <th>Images</th>\n",
       "      <th>ID</th>\n",
       "    </tr>\n",
       "  </thead>\n",
       "  <tbody>\n",
       "    <tr>\n",
       "      <th>0</th>\n",
       "      <td>Leniolisib</td>\n",
       "      <td>NaN</td>\n",
       "      <td>450.2</td>\n",
       "      <td>Smiles=CCC(=O)N1CC[C@@H](C1)Nc2c3c(ncn2)CCN(C3...</td>\n",
       "      <td>CDZ173-NX,Leniolisib</td>\n",
       "      <td>http://www.icoa.fr/pkidb/static/img/mol/Leniol...</td>\n",
       "      <td>\"CHEMBL3643413\"</td>\n",
       "    </tr>\n",
       "    <tr>\n",
       "      <th>1</th>\n",
       "      <td>Nemiralisib</td>\n",
       "      <td>NaN</td>\n",
       "      <td>440.2</td>\n",
       "      <td>Smiles=CC(C)N1CCN(CC1)Cc2cnc(o2)c3cc(cc4c3cn[n...</td>\n",
       "      <td>GSK2269557A,GSK-2269557,Nemiralisib</td>\n",
       "      <td>http://www.icoa.fr/pkidb/static/img/mol/Nemira...</td>\n",
       "      <td>\"CHEMBL2216859\"</td>\n",
       "    </tr>\n",
       "    <tr>\n",
       "      <th>2</th>\n",
       "      <td>Oclacitinib</td>\n",
       "      <td>JAK1,JAK2,JAK3</td>\n",
       "      <td>337.2</td>\n",
       "      <td>Smiles=CNS(=O)(=O)C[C@H]1CC[C@@H](CC1)N(c2ncnc...</td>\n",
       "      <td>Oclacitinib,JAKI,PF-03394197</td>\n",
       "      <td>http://www.icoa.fr/pkidb/static/img/mol/Oclaci...</td>\n",
       "      <td>\"CHEMBL2103874\"</td>\n",
       "    </tr>\n",
       "    <tr>\n",
       "      <th>3</th>\n",
       "      <td>Toceranib</td>\n",
       "      <td>KIT</td>\n",
       "      <td>396.2</td>\n",
       "      <td>Smiles=Cc1c([nH]c(c1C(=O)NCCN2CCCC2)C)/C=C\\3/c...</td>\n",
       "      <td>PHA-291639,Toceranib</td>\n",
       "      <td>http://www.icoa.fr/pkidb/static/img/mol/Tocera...</td>\n",
       "      <td>\"CHEMBL13608\"</td>\n",
       "    </tr>\n",
       "    <tr>\n",
       "      <th>4</th>\n",
       "      <td>Dezapelisib</td>\n",
       "      <td>NaN</td>\n",
       "      <td>421.1</td>\n",
       "      <td>Smiles=Cc1csc2n1c(=O)c(c(n2)[C@H](C)Nc3c4c([nH...</td>\n",
       "      <td>INCB040093,Dezapelisib</td>\n",
       "      <td>http://www.icoa.fr/pkidb/static/img/mol/Dezape...</td>\n",
       "      <td>\"CHEMBL2216863\"</td>\n",
       "    </tr>\n",
       "  </tbody>\n",
       "</table>\n",
       "</div>"
      ],
      "text/plain": [
       "     Inhibitor          Target     MW  \\\n",
       "0   Leniolisib             NaN  450.2   \n",
       "1  Nemiralisib             NaN  440.2   \n",
       "2  Oclacitinib  JAK1,JAK2,JAK3  337.2   \n",
       "3    Toceranib             KIT  396.2   \n",
       "4  Dezapelisib             NaN  421.1   \n",
       "\n",
       "                                              Smiles  \\\n",
       "0  Smiles=CCC(=O)N1CC[C@@H](C1)Nc2c3c(ncn2)CCN(C3...   \n",
       "1  Smiles=CC(C)N1CCN(CC1)Cc2cnc(o2)c3cc(cc4c3cn[n...   \n",
       "2  Smiles=CNS(=O)(=O)C[C@H]1CC[C@@H](CC1)N(c2ncnc...   \n",
       "3  Smiles=Cc1c([nH]c(c1C(=O)NCCN2CCCC2)C)/C=C\\3/c...   \n",
       "4  Smiles=Cc1csc2n1c(=O)c(c(n2)[C@H](C)Nc3c4c([nH...   \n",
       "\n",
       "                              Synonyms  \\\n",
       "0                 CDZ173-NX,Leniolisib   \n",
       "1  GSK2269557A,GSK-2269557,Nemiralisib   \n",
       "2         Oclacitinib,JAKI,PF-03394197   \n",
       "3                 PHA-291639,Toceranib   \n",
       "4               INCB040093,Dezapelisib   \n",
       "\n",
       "                                              Images                ID  \n",
       "0  http://www.icoa.fr/pkidb/static/img/mol/Leniol...   \"CHEMBL3643413\"  \n",
       "1  http://www.icoa.fr/pkidb/static/img/mol/Nemira...   \"CHEMBL2216859\"  \n",
       "2  http://www.icoa.fr/pkidb/static/img/mol/Oclaci...   \"CHEMBL2103874\"  \n",
       "3  http://www.icoa.fr/pkidb/static/img/mol/Tocera...     \"CHEMBL13608\"  \n",
       "4  http://www.icoa.fr/pkidb/static/img/mol/Dezape...   \"CHEMBL2216863\"  "
      ]
     },
     "execution_count": 30,
     "metadata": {},
     "output_type": "execute_result"
    }
   ],
   "source": [
    "pkidb = pd.read_csv(\"pkidb.csv\")\n",
    "\n",
    "#215 rows\n",
    "pkidb.head()"
   ]
  },
  {
   "cell_type": "code",
   "execution_count": 41,
   "metadata": {},
   "outputs": [
    {
     "data": {
      "text/html": [
       "<div>\n",
       "<style scoped>\n",
       "    .dataframe tbody tr th:only-of-type {\n",
       "        vertical-align: middle;\n",
       "    }\n",
       "\n",
       "    .dataframe tbody tr th {\n",
       "        vertical-align: top;\n",
       "    }\n",
       "\n",
       "    .dataframe thead th {\n",
       "        text-align: right;\n",
       "    }\n",
       "</style>\n",
       "<table border=\"1\" class=\"dataframe\">\n",
       "  <thead>\n",
       "    <tr style=\"text-align: right;\">\n",
       "      <th></th>\n",
       "      <th>Inhibitor</th>\n",
       "      <th>Target</th>\n",
       "      <th>MW</th>\n",
       "      <th>Smiles</th>\n",
       "      <th>Synonyms</th>\n",
       "      <th>Images</th>\n",
       "      <th>ID</th>\n",
       "    </tr>\n",
       "  </thead>\n",
       "  <tbody>\n",
       "    <tr>\n",
       "      <th>2</th>\n",
       "      <td>Oclacitinib</td>\n",
       "      <td>JAK1,JAK2,JAK3</td>\n",
       "      <td>337.2</td>\n",
       "      <td>Smiles=CNS(=O)(=O)C[C@H]1CC[C@@H](CC1)N(c2ncnc...</td>\n",
       "      <td>Oclacitinib,JAKI,PF-03394197</td>\n",
       "      <td>http://www.icoa.fr/pkidb/static/img/mol/Oclaci...</td>\n",
       "      <td>CHEMBL2103874</td>\n",
       "    </tr>\n",
       "    <tr>\n",
       "      <th>3</th>\n",
       "      <td>Toceranib</td>\n",
       "      <td>KIT</td>\n",
       "      <td>396.2</td>\n",
       "      <td>Smiles=Cc1c([nH]c(c1C(=O)NCCN2CCCC2)C)/C=C\\3/c...</td>\n",
       "      <td>PHA-291639,Toceranib</td>\n",
       "      <td>http://www.icoa.fr/pkidb/static/img/mol/Tocera...</td>\n",
       "      <td>CHEMBL13608</td>\n",
       "    </tr>\n",
       "    <tr>\n",
       "      <th>6</th>\n",
       "      <td>Selatinib</td>\n",
       "      <td>EGFR,ERBB2</td>\n",
       "      <td>564.1</td>\n",
       "      <td>Smiles=CS(=O)CCNCc1ccc(o1)c2ccc3c(c2)c(ncn3)Nc...</td>\n",
       "      <td>NaN</td>\n",
       "      <td>http://www.icoa.fr/pkidb/static/img/mol/Selati...</td>\n",
       "      <td>CHEMBL3040548</td>\n",
       "    </tr>\n",
       "    <tr>\n",
       "      <th>8</th>\n",
       "      <td>Panulisib</td>\n",
       "      <td>PIK3CA,MTOR</td>\n",
       "      <td>527.2</td>\n",
       "      <td>Smiles=CC(C)(C#N)c1ccc(cn1)n2c3c4cc(ccc4ncc3n(...</td>\n",
       "      <td>NaN</td>\n",
       "      <td>http://www.icoa.fr/pkidb/static/img/mol/Panuli...</td>\n",
       "      <td>None</td>\n",
       "    </tr>\n",
       "    <tr>\n",
       "      <th>10</th>\n",
       "      <td>Altiratinib</td>\n",
       "      <td>MET,TEK,KDR,NTRK1</td>\n",
       "      <td>510.2</td>\n",
       "      <td>Smiles=c1cc(ccc1NC(=O)C2(CC2)C(=O)Nc3cc(c(cc3F...</td>\n",
       "      <td>DCC-2701,Altiratinib,DP-5164</td>\n",
       "      <td>http://www.icoa.fr/pkidb/static/img/mol/Altira...</td>\n",
       "      <td>CHEMBL3545365</td>\n",
       "    </tr>\n",
       "  </tbody>\n",
       "</table>\n",
       "</div>"
      ],
      "text/plain": [
       "      Inhibitor             Target     MW  \\\n",
       "2   Oclacitinib     JAK1,JAK2,JAK3  337.2   \n",
       "3     Toceranib                KIT  396.2   \n",
       "6     Selatinib         EGFR,ERBB2  564.1   \n",
       "8     Panulisib        PIK3CA,MTOR  527.2   \n",
       "10  Altiratinib  MET,TEK,KDR,NTRK1  510.2   \n",
       "\n",
       "                                               Smiles  \\\n",
       "2   Smiles=CNS(=O)(=O)C[C@H]1CC[C@@H](CC1)N(c2ncnc...   \n",
       "3   Smiles=Cc1c([nH]c(c1C(=O)NCCN2CCCC2)C)/C=C\\3/c...   \n",
       "6   Smiles=CS(=O)CCNCc1ccc(o1)c2ccc3c(c2)c(ncn3)Nc...   \n",
       "8   Smiles=CC(C)(C#N)c1ccc(cn1)n2c3c4cc(ccc4ncc3n(...   \n",
       "10  Smiles=c1cc(ccc1NC(=O)C2(CC2)C(=O)Nc3cc(c(cc3F...   \n",
       "\n",
       "                        Synonyms  \\\n",
       "2   Oclacitinib,JAKI,PF-03394197   \n",
       "3           PHA-291639,Toceranib   \n",
       "6                            NaN   \n",
       "8                            NaN   \n",
       "10  DCC-2701,Altiratinib,DP-5164   \n",
       "\n",
       "                                               Images              ID  \n",
       "2   http://www.icoa.fr/pkidb/static/img/mol/Oclaci...   CHEMBL2103874  \n",
       "3   http://www.icoa.fr/pkidb/static/img/mol/Tocera...     CHEMBL13608  \n",
       "6   http://www.icoa.fr/pkidb/static/img/mol/Selati...   CHEMBL3040548  \n",
       "8   http://www.icoa.fr/pkidb/static/img/mol/Panuli...            None  \n",
       "10  http://www.icoa.fr/pkidb/static/img/mol/Altira...   CHEMBL3545365  "
      ]
     },
     "execution_count": 41,
     "metadata": {},
     "output_type": "execute_result"
    }
   ],
   "source": [
    "remove_quote= [i.replace('\"', '') for i in pkidb.ID]\n",
    "pkidb[\"ID\"] = remove_quote\n",
    "\n",
    "#removing data with no Target\n",
    "pkidb = pkidb.dropna(subset=['Target'])\n",
    "\n",
    "#182 rows\n",
    "pkidb.head()"
   ]
  },
  {
   "cell_type": "code",
   "execution_count": 42,
   "metadata": {},
   "outputs": [
    {
     "data": {
      "text/html": [
       "<div>\n",
       "<style scoped>\n",
       "    .dataframe tbody tr th:only-of-type {\n",
       "        vertical-align: middle;\n",
       "    }\n",
       "\n",
       "    .dataframe tbody tr th {\n",
       "        vertical-align: top;\n",
       "    }\n",
       "\n",
       "    .dataframe thead th {\n",
       "        text-align: right;\n",
       "    }\n",
       "</style>\n",
       "<table border=\"1\" class=\"dataframe\">\n",
       "  <thead>\n",
       "    <tr style=\"text-align: right;\">\n",
       "      <th></th>\n",
       "      <th>Inhibitor</th>\n",
       "      <th>Target</th>\n",
       "    </tr>\n",
       "  </thead>\n",
       "  <tbody>\n",
       "    <tr>\n",
       "      <th>0</th>\n",
       "      <td>Oclacitinib</td>\n",
       "      <td>JAK1</td>\n",
       "    </tr>\n",
       "    <tr>\n",
       "      <th>1</th>\n",
       "      <td>Oclacitinib</td>\n",
       "      <td>JAK2</td>\n",
       "    </tr>\n",
       "    <tr>\n",
       "      <th>2</th>\n",
       "      <td>Oclacitinib</td>\n",
       "      <td>JAK3</td>\n",
       "    </tr>\n",
       "    <tr>\n",
       "      <th>3</th>\n",
       "      <td>Toceranib</td>\n",
       "      <td>KIT</td>\n",
       "    </tr>\n",
       "    <tr>\n",
       "      <th>4</th>\n",
       "      <td>Selatinib</td>\n",
       "      <td>EGFR</td>\n",
       "    </tr>\n",
       "  </tbody>\n",
       "</table>\n",
       "</div>"
      ],
      "text/plain": [
       "     Inhibitor Target\n",
       "0  Oclacitinib   JAK1\n",
       "1  Oclacitinib   JAK2\n",
       "2  Oclacitinib   JAK3\n",
       "3    Toceranib    KIT\n",
       "4    Selatinib   EGFR"
      ]
     },
     "execution_count": 42,
     "metadata": {},
     "output_type": "execute_result"
    }
   ],
   "source": [
    "#dataframe of only inhibitor and action\n",
    "new_pkidb = pd.DataFrame(data={\n",
    "  'Inhibitor':list(pkidb.Inhibitor),\n",
    "  'Target': list(pkidb.Target)})\n",
    "\n",
    "new_pkidb= (new_pkidb.set_index(['Inhibitor'])\n",
    "   .stack()\n",
    "   .str.split(',', expand=True)\n",
    "   .stack()\n",
    "   .unstack(-2)\n",
    "   .reset_index(-1, drop=True)\n",
    "   .reset_index())\n",
    "\n",
    "#492 rows\n",
    "new_pkidb.head()"
   ]
  },
  {
   "cell_type": "code",
   "execution_count": 43,
   "metadata": {},
   "outputs": [
    {
     "data": {
      "text/plain": [
       "492"
      ]
     },
     "execution_count": 43,
     "metadata": {},
     "output_type": "execute_result"
    }
   ],
   "source": [
    "len(new_pkidb.Target)"
   ]
  },
  {
   "cell_type": "code",
   "execution_count": 44,
   "metadata": {},
   "outputs": [
    {
     "data": {
      "text/plain": [
       "482"
      ]
     },
     "execution_count": 44,
     "metadata": {},
     "output_type": "execute_result"
    }
   ],
   "source": [
    "new = []\n",
    "for x in Kinase_names.Gene_name:  #gene aliases\n",
    "    for y in new_pkidb.Target:    #action\n",
    "        \n",
    "    #if the value of gene aliase and action are the same:\n",
    "        if x == y:\n",
    "            new.append(y)\n",
    "        \n",
    "        else:\n",
    "            pass\n",
    "\n",
    "#482 row\n",
    "len(new)"
   ]
  },
  {
   "cell_type": "code",
   "execution_count": 47,
   "metadata": {},
   "outputs": [],
   "source": [
    "not_found = list(set(new_pkidb.Target) - set(new))"
   ]
  },
  {
   "cell_type": "code",
   "execution_count": 48,
   "metadata": {},
   "outputs": [
    {
     "data": {
      "text/plain": [
       "['PDGFD', 'NR1I2', 'BRD4', 'VEGFA', 'BRDT', 'BCR']"
      ]
     },
     "execution_count": 48,
     "metadata": {},
     "output_type": "execute_result"
    }
   ],
   "source": [
    "not_found"
   ]
  },
  {
   "cell_type": "code",
   "execution_count": 53,
   "metadata": {},
   "outputs": [
    {
     "data": {
      "text/plain": [
       "['BCR',\n",
       " 'PDGFD',\n",
       " 'BCR',\n",
       " 'VEGFA',\n",
       " 'BRDT',\n",
       " 'VEGFA',\n",
       " 'NR1I2',\n",
       " 'BRD4',\n",
       " 'BCR',\n",
       " 'BCR']"
      ]
     },
     "execution_count": 53,
     "metadata": {},
     "output_type": "execute_result"
    }
   ],
   "source": [
    "lol = [x for x in new_pkidb.Target if x not in new]\n",
    "lol"
   ]
  },
  {
   "cell_type": "code",
   "execution_count": null,
   "metadata": {},
   "outputs": [],
   "source": [
    "for x in lol:\n",
    "    for y in new_pkidb.Target:\n",
    "        if x == y :\n",
    "            "
   ]
  }
 ],
 "metadata": {
  "kernelspec": {
   "display_name": "Python 2",
   "language": "python",
   "name": "python2"
  },
  "language_info": {
   "codemirror_mode": {
    "name": "ipython",
    "version": 2
   },
   "file_extension": ".py",
   "mimetype": "text/x-python",
   "name": "python",
   "nbconvert_exporter": "python",
   "pygments_lexer": "ipython2",
   "version": "2.7.16"
  }
 },
 "nbformat": 4,
 "nbformat_minor": 2
}
